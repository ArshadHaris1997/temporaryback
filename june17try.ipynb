{
 "cells": [
  {
   "cell_type": "code",
   "execution_count": 1,
   "id": "4def5a35-5ba7-449c-aa96-fa3fd42b535d",
   "metadata": {},
   "outputs": [
    {
     "name": "stderr",
     "output_type": "stream",
     "text": [
      "C:\\Users\\ASUS\\AppData\\Local\\Temp\\ipykernel_2352\\504477642.py:17: DtypeWarning: Columns (1) have mixed types. Specify dtype option on import or set low_memory=False.\n",
      "  df = pd.read_csv('ODI_Match_Data.csv')\n"
     ]
    },
    {
     "name": "stdout",
     "output_type": "stream",
     "text": [
      "   match_id   season  start_date                           venue  innings  \\\n",
      "0   1389389  2023/24  2023-09-24  Holkar Cricket Stadium, Indore        1   \n",
      "1   1389389  2023/24  2023-09-24  Holkar Cricket Stadium, Indore        1   \n",
      "2   1389389  2023/24  2023-09-24  Holkar Cricket Stadium, Indore        1   \n",
      "3   1389389  2023/24  2023-09-24  Holkar Cricket Stadium, Indore        1   \n",
      "4   1389389  2023/24  2023-09-24  Holkar Cricket Stadium, Indore        1   \n",
      "\n",
      "   ball batting_team bowling_team     striker   non_striker  ... wides  \\\n",
      "0   0.1        India    Australia  RD Gaikwad  Shubman Gill  ...   NaN   \n",
      "1   0.2        India    Australia  RD Gaikwad  Shubman Gill  ...   NaN   \n",
      "2   0.3        India    Australia  RD Gaikwad  Shubman Gill  ...   NaN   \n",
      "3   0.4        India    Australia  RD Gaikwad  Shubman Gill  ...   NaN   \n",
      "4   0.5        India    Australia  RD Gaikwad  Shubman Gill  ...   NaN   \n",
      "\n",
      "   noballs  byes  legbyes  penalty  wicket_type  player_dismissed  \\\n",
      "0      NaN   NaN      NaN      NaN          NaN               NaN   \n",
      "1      NaN   NaN      NaN      NaN          NaN               NaN   \n",
      "2      NaN   NaN      NaN      NaN          NaN               NaN   \n",
      "3      NaN   NaN      NaN      NaN          NaN               NaN   \n",
      "4      NaN   NaN      NaN      NaN          NaN               NaN   \n",
      "\n",
      "   other_wicket_type other_player_dismissed cricsheet_id  \n",
      "0                NaN                    NaN      1389389  \n",
      "1                NaN                    NaN      1389389  \n",
      "2                NaN                    NaN      1389389  \n",
      "3                NaN                    NaN      1389389  \n",
      "4                NaN                    NaN      1389389  \n",
      "\n",
      "[5 rows x 23 columns]\n",
      "<class 'pandas.core.frame.DataFrame'>\n",
      "RangeIndex: 1265103 entries, 0 to 1265102\n",
      "Data columns (total 23 columns):\n",
      " #   Column                  Non-Null Count    Dtype  \n",
      "---  ------                  --------------    -----  \n",
      " 0   match_id                1265103 non-null  int64  \n",
      " 1   season                  1265103 non-null  object \n",
      " 2   start_date              1265103 non-null  object \n",
      " 3   venue                   1265103 non-null  object \n",
      " 4   innings                 1265103 non-null  int64  \n",
      " 5   ball                    1265103 non-null  float64\n",
      " 6   batting_team            1265103 non-null  object \n",
      " 7   bowling_team            1265103 non-null  object \n",
      " 8   striker                 1265103 non-null  object \n",
      " 9   non_striker             1265103 non-null  object \n",
      " 10  bowler                  1265103 non-null  object \n",
      " 11  runs_off_bat            1265103 non-null  int64  \n",
      " 12  extras                  1265103 non-null  int64  \n",
      " 13  wides                   28990 non-null    float64\n",
      " 14  noballs                 5058 non-null     float64\n",
      " 15  byes                    1962 non-null     float64\n",
      " 16  legbyes                 12903 non-null    float64\n",
      " 17  penalty                 18 non-null       float64\n",
      " 18  wicket_type             34474 non-null    object \n",
      " 19  player_dismissed        34474 non-null    object \n",
      " 20  other_wicket_type       0 non-null        float64\n",
      " 21  other_player_dismissed  0 non-null        float64\n",
      " 22  cricsheet_id            1265103 non-null  int64  \n",
      "dtypes: float64(8), int64(5), object(10)\n",
      "memory usage: 222.0+ MB\n",
      "None\n"
     ]
    }
   ],
   "source": [
    "# Basic Libraries\n",
    "import pandas as pd\n",
    "import numpy as np\n",
    "import matplotlib.pyplot as plt\n",
    "import seaborn as sns\n",
    "\n",
    "# Machine Learning Libraries\n",
    "from sklearn.model_selection import train_test_split\n",
    "from sklearn.linear_model import LinearRegression\n",
    "from sklearn.naive_bayes import GaussianNB\n",
    "from sklearn.ensemble import RandomForestClassifier\n",
    "from sklearn.tree import DecisionTreeClassifier\n",
    "from sklearn.svm import SVC\n",
    "from sklearn.metrics import mean_absolute_error, r2_score, accuracy_score, confusion_matrix, classification_report\n",
    "\n",
    "# Load the ODI Match Data\n",
    "df = pd.read_csv('ODI_Match_Data.csv')\n",
    "\n",
    "# Display first few rows\n",
    "print(df.head())\n",
    "\n",
    "# Check column names and types\n",
    "print(df.info())\n",
    "\n",
    "# Basic Cleanup (optional, depending on dataset)\n",
    "df.dropna(inplace=True)\n"
   ]
  },
  {
   "cell_type": "code",
   "execution_count": 3,
   "id": "57d90bd7-25c3-4af7-bf96-a83626b842a2",
   "metadata": {},
   "outputs": [
    {
     "ename": "KeyError",
     "evalue": "\"None of [Index(['current_score', 'wickets', 'overs', 'venue_id', 'batting_team_id'], dtype='object')] are in the [columns]\"",
     "output_type": "error",
     "traceback": [
      "\u001b[1;31m---------------------------------------------------------------------------\u001b[0m",
      "\u001b[1;31mKeyError\u001b[0m                                  Traceback (most recent call last)",
      "Cell \u001b[1;32mIn[3], line 2\u001b[0m\n\u001b[0;32m      1\u001b[0m \u001b[38;5;66;03m# Select important features\u001b[39;00m\n\u001b[1;32m----> 2\u001b[0m X \u001b[38;5;241m=\u001b[39m df[[\u001b[38;5;124m'\u001b[39m\u001b[38;5;124mcurrent_score\u001b[39m\u001b[38;5;124m'\u001b[39m, \u001b[38;5;124m'\u001b[39m\u001b[38;5;124mwickets\u001b[39m\u001b[38;5;124m'\u001b[39m, \u001b[38;5;124m'\u001b[39m\u001b[38;5;124movers\u001b[39m\u001b[38;5;124m'\u001b[39m, \u001b[38;5;124m'\u001b[39m\u001b[38;5;124mvenue_id\u001b[39m\u001b[38;5;124m'\u001b[39m, \u001b[38;5;124m'\u001b[39m\u001b[38;5;124mbatting_team_id\u001b[39m\u001b[38;5;124m'\u001b[39m]]  \u001b[38;5;66;03m# Adjust based on your data\u001b[39;00m\n\u001b[0;32m      3\u001b[0m y \u001b[38;5;241m=\u001b[39m df[\u001b[38;5;124m'\u001b[39m\u001b[38;5;124mfinal_score\u001b[39m\u001b[38;5;124m'\u001b[39m]\n\u001b[0;32m      5\u001b[0m \u001b[38;5;66;03m# Train Test Split\u001b[39;00m\n",
      "File \u001b[1;32m~\\anaconda3\\Lib\\site-packages\\pandas\\core\\frame.py:4108\u001b[0m, in \u001b[0;36mDataFrame.__getitem__\u001b[1;34m(self, key)\u001b[0m\n\u001b[0;32m   4106\u001b[0m     \u001b[38;5;28;01mif\u001b[39;00m is_iterator(key):\n\u001b[0;32m   4107\u001b[0m         key \u001b[38;5;241m=\u001b[39m \u001b[38;5;28mlist\u001b[39m(key)\n\u001b[1;32m-> 4108\u001b[0m     indexer \u001b[38;5;241m=\u001b[39m \u001b[38;5;28mself\u001b[39m\u001b[38;5;241m.\u001b[39mcolumns\u001b[38;5;241m.\u001b[39m_get_indexer_strict(key, \u001b[38;5;124m\"\u001b[39m\u001b[38;5;124mcolumns\u001b[39m\u001b[38;5;124m\"\u001b[39m)[\u001b[38;5;241m1\u001b[39m]\n\u001b[0;32m   4110\u001b[0m \u001b[38;5;66;03m# take() does not accept boolean indexers\u001b[39;00m\n\u001b[0;32m   4111\u001b[0m \u001b[38;5;28;01mif\u001b[39;00m \u001b[38;5;28mgetattr\u001b[39m(indexer, \u001b[38;5;124m\"\u001b[39m\u001b[38;5;124mdtype\u001b[39m\u001b[38;5;124m\"\u001b[39m, \u001b[38;5;28;01mNone\u001b[39;00m) \u001b[38;5;241m==\u001b[39m \u001b[38;5;28mbool\u001b[39m:\n",
      "File \u001b[1;32m~\\anaconda3\\Lib\\site-packages\\pandas\\core\\indexes\\base.py:6200\u001b[0m, in \u001b[0;36mIndex._get_indexer_strict\u001b[1;34m(self, key, axis_name)\u001b[0m\n\u001b[0;32m   6197\u001b[0m \u001b[38;5;28;01melse\u001b[39;00m:\n\u001b[0;32m   6198\u001b[0m     keyarr, indexer, new_indexer \u001b[38;5;241m=\u001b[39m \u001b[38;5;28mself\u001b[39m\u001b[38;5;241m.\u001b[39m_reindex_non_unique(keyarr)\n\u001b[1;32m-> 6200\u001b[0m \u001b[38;5;28mself\u001b[39m\u001b[38;5;241m.\u001b[39m_raise_if_missing(keyarr, indexer, axis_name)\n\u001b[0;32m   6202\u001b[0m keyarr \u001b[38;5;241m=\u001b[39m \u001b[38;5;28mself\u001b[39m\u001b[38;5;241m.\u001b[39mtake(indexer)\n\u001b[0;32m   6203\u001b[0m \u001b[38;5;28;01mif\u001b[39;00m \u001b[38;5;28misinstance\u001b[39m(key, Index):\n\u001b[0;32m   6204\u001b[0m     \u001b[38;5;66;03m# GH 42790 - Preserve name from an Index\u001b[39;00m\n",
      "File \u001b[1;32m~\\anaconda3\\Lib\\site-packages\\pandas\\core\\indexes\\base.py:6249\u001b[0m, in \u001b[0;36mIndex._raise_if_missing\u001b[1;34m(self, key, indexer, axis_name)\u001b[0m\n\u001b[0;32m   6247\u001b[0m \u001b[38;5;28;01mif\u001b[39;00m nmissing:\n\u001b[0;32m   6248\u001b[0m     \u001b[38;5;28;01mif\u001b[39;00m nmissing \u001b[38;5;241m==\u001b[39m \u001b[38;5;28mlen\u001b[39m(indexer):\n\u001b[1;32m-> 6249\u001b[0m         \u001b[38;5;28;01mraise\u001b[39;00m \u001b[38;5;167;01mKeyError\u001b[39;00m(\u001b[38;5;124mf\u001b[39m\u001b[38;5;124m\"\u001b[39m\u001b[38;5;124mNone of [\u001b[39m\u001b[38;5;132;01m{\u001b[39;00mkey\u001b[38;5;132;01m}\u001b[39;00m\u001b[38;5;124m] are in the [\u001b[39m\u001b[38;5;132;01m{\u001b[39;00maxis_name\u001b[38;5;132;01m}\u001b[39;00m\u001b[38;5;124m]\u001b[39m\u001b[38;5;124m\"\u001b[39m)\n\u001b[0;32m   6251\u001b[0m     not_found \u001b[38;5;241m=\u001b[39m \u001b[38;5;28mlist\u001b[39m(ensure_index(key)[missing_mask\u001b[38;5;241m.\u001b[39mnonzero()[\u001b[38;5;241m0\u001b[39m]]\u001b[38;5;241m.\u001b[39munique())\n\u001b[0;32m   6252\u001b[0m     \u001b[38;5;28;01mraise\u001b[39;00m \u001b[38;5;167;01mKeyError\u001b[39;00m(\u001b[38;5;124mf\u001b[39m\u001b[38;5;124m\"\u001b[39m\u001b[38;5;132;01m{\u001b[39;00mnot_found\u001b[38;5;132;01m}\u001b[39;00m\u001b[38;5;124m not in index\u001b[39m\u001b[38;5;124m\"\u001b[39m)\n",
      "\u001b[1;31mKeyError\u001b[0m: \"None of [Index(['current_score', 'wickets', 'overs', 'venue_id', 'batting_team_id'], dtype='object')] are in the [columns]\""
     ]
    }
   ],
   "source": [
    "# Select important features\n",
    "X = df[['current_score', 'wickets', 'overs', 'venue_id', 'batting_team_id']]  # Adjust based on your data\n",
    "y = df['final_score']\n",
    "\n",
    "# Train Test Split\n",
    "X_train, X_test, y_train, y_test = train_test_split(X, y, test_size=0.2, random_state=42)\n",
    "\n",
    "# Build and Train the Linear Regression Model\n",
    "lr = LinearRegression()\n",
    "lr.fit(X_train, y_train)\n",
    "\n",
    "# Predict\n",
    "y_pred = lr.predict(X_test)\n",
    "\n",
    "# Evaluate\n",
    "print('Mean Absolute Error:', mean_absolute_error(y_test, y_pred))\n",
    "print('R2 Score:', r2_score(y_test, y_pred))\n",
    "\n",
    "# Plot actual vs predicted\n",
    "plt.scatter(y_test, y_pred)\n",
    "plt.xlabel('Actual Final Score')\n",
    "plt.ylabel('Predicted Final Score')\n",
    "plt.title('First Innings Score Prediction')\n",
    "plt.show()\n"
   ]
  },
  {
   "cell_type": "code",
   "execution_count": null,
   "id": "33049329-0325-40b0-b592-00ee1595d58b",
   "metadata": {},
   "outputs": [],
   "source": []
  }
 ],
 "metadata": {
  "kernelspec": {
   "display_name": "Python 3 (ipykernel)",
   "language": "python",
   "name": "python3"
  },
  "language_info": {
   "codemirror_mode": {
    "name": "ipython",
    "version": 3
   },
   "file_extension": ".py",
   "mimetype": "text/x-python",
   "name": "python",
   "nbconvert_exporter": "python",
   "pygments_lexer": "ipython3",
   "version": "3.12.4"
  }
 },
 "nbformat": 4,
 "nbformat_minor": 5
}
