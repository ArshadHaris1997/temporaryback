{
 "cells": [
  {
   "cell_type": "code",
   "execution_count": 1,
   "id": "2184307f-5151-428c-8c74-7f76419991b6",
   "metadata": {},
   "outputs": [],
   "source": [
    "import pandas as pd\n",
    "import numpy as np"
   ]
  },
  {
   "cell_type": "code",
   "execution_count": 18,
   "id": "537dca02-e76f-4440-8464-bca8b44eeff6",
   "metadata": {},
   "outputs": [
    {
     "name": "stdout",
     "output_type": "stream",
     "text": [
      "Name: Victor\n",
      "Age in 5 years 31\n",
      "Hello, Victor\n"
     ]
    }
   ],
   "source": [
    "age=26\n",
    "height=5.9\n",
    "name='Victor'\n",
    "is_student=True\n",
    "\n",
    "print('Name:',name)\n",
    "\n",
    "result = age+5\n",
    "print('Age in 5 years', result)\n",
    "\n",
    "greeting = 'Hello, '+name\n",
    "print(greeting)"
   ]
  },
  {
   "cell_type": "code",
   "execution_count": 24,
   "id": "ede80f4b-f22b-499b-a768-6e36ae579f69",
   "metadata": {},
   "outputs": [
    {
     "name": "stdout",
     "output_type": "stream",
     "text": [
      "1\n",
      "is odd\n",
      "2\n",
      "is even\n",
      "3\n",
      "is odd\n",
      "4\n",
      "is even\n",
      "5\n",
      "is odd\n",
      "6\n",
      "is even\n",
      "7\n",
      "is odd\n",
      "All done. Hooray all working here\n"
     ]
    }
   ],
   "source": [
    "listofnumbers=[1,2,3,4,5,6,7]\n",
    "for number in listofnumbers:\n",
    "    print(number)\n",
    "    if(number%2==0):\n",
    "        print(\"is even\")\n",
    "    else:\n",
    "        print(\"is odd\")\n",
    "\n",
    "print(\"All done. Hooray all working here\")"
   ]
  },
  {
   "cell_type": "code",
   "execution_count": 36,
   "id": "4dd87238-9a77-42d8-8fc8-261fdf9d3e3f",
   "metadata": {},
   "outputs": [
    {
     "name": "stdout",
     "output_type": "stream",
     "text": [
      "6\n"
     ]
    }
   ],
   "source": [
    "x=[1,2,3,4,5,6]\n",
    "print(len(x))\n"
   ]
  },
  {
   "cell_type": "code",
   "execution_count": 38,
   "id": "881dcce3-a5d0-4f2a-ae24-65c8481e2a21",
   "metadata": {},
   "outputs": [
    {
     "data": {
      "text/plain": [
       "[1, 2, 3, 4, 5, 6]"
      ]
     },
     "execution_count": 38,
     "metadata": {},
     "output_type": "execute_result"
    }
   ],
   "source": [
    "x[:]"
   ]
  },
  {
   "cell_type": "code",
   "execution_count": 40,
   "id": "87689ba2-82a6-4791-a668-7c2aef194c3a",
   "metadata": {},
   "outputs": [
    {
     "data": {
      "text/plain": [
       "[1, 2, 3]"
      ]
     },
     "execution_count": 40,
     "metadata": {},
     "output_type": "execute_result"
    }
   ],
   "source": [
    "x[:3]"
   ]
  },
  {
   "cell_type": "code",
   "execution_count": 42,
   "id": "f4f3f382-f390-49d2-aea0-fdd0f77bf865",
   "metadata": {},
   "outputs": [
    {
     "ename": "SyntaxError",
     "evalue": "invalid syntax (396754402.py, line 1)",
     "output_type": "error",
     "traceback": [
      "\u001b[1;36m  Cell \u001b[1;32mIn[42], line 1\u001b[1;36m\u001b[0m\n\u001b[1;33m    x=[3:]\u001b[0m\n\u001b[1;37m        ^\u001b[0m\n\u001b[1;31mSyntaxError\u001b[0m\u001b[1;31m:\u001b[0m invalid syntax\n"
     ]
    }
   ],
   "source": [
    "x=[3:]"
   ]
  },
  {
   "cell_type": "code",
   "execution_count": 44,
   "id": "ee831c06-98a8-477f-a4f3-2849ea8d6748",
   "metadata": {},
   "outputs": [
    {
     "ename": "SyntaxError",
     "evalue": "invalid syntax (396754402.py, line 1)",
     "output_type": "error",
     "traceback": [
      "\u001b[1;36m  Cell \u001b[1;32mIn[44], line 1\u001b[1;36m\u001b[0m\n\u001b[1;33m    x=[3:]\u001b[0m\n\u001b[1;37m        ^\u001b[0m\n\u001b[1;31mSyntaxError\u001b[0m\u001b[1;31m:\u001b[0m invalid syntax\n"
     ]
    }
   ],
   "source": [
    "x=[3:]"
   ]
  },
  {
   "cell_type": "code",
   "execution_count": 46,
   "id": "f508aebc-1c05-4459-a75b-d5c2a27f2574",
   "metadata": {},
   "outputs": [
    {
     "data": {
      "text/plain": [
       "[4, 5, 6]"
      ]
     },
     "execution_count": 46,
     "metadata": {},
     "output_type": "execute_result"
    }
   ],
   "source": [
    "x[3:]"
   ]
  },
  {
   "cell_type": "code",
   "execution_count": 48,
   "id": "475c4737-cc26-48bb-bdea-0b678952dd3f",
   "metadata": {},
   "outputs": [
    {
     "data": {
      "text/plain": [
       "[5, 6]"
      ]
     },
     "execution_count": 48,
     "metadata": {},
     "output_type": "execute_result"
    }
   ],
   "source": [
    "x[-2:]"
   ]
  },
  {
   "cell_type": "code",
   "execution_count": 54,
   "id": "340870bc-b3e9-4372-ab0f-cb92dfa970f6",
   "metadata": {},
   "outputs": [
    {
     "data": {
      "text/plain": [
       "[1, 2, 3, 4, 5, 6, 7, 8, 7, 8, 7, 8]"
      ]
     },
     "execution_count": 54,
     "metadata": {},
     "output_type": "execute_result"
    }
   ],
   "source": [
    "x.extend([7,8])\n",
    "x"
   ]
  },
  {
   "cell_type": "code",
   "execution_count": 56,
   "id": "04909657-ee9d-4170-942a-9f4687137091",
   "metadata": {},
   "outputs": [],
   "source": [
    "x.append(9)"
   ]
  },
  {
   "cell_type": "code",
   "execution_count": 58,
   "id": "52a0aec8-d86c-4a4b-8101-289d6e3adbe7",
   "metadata": {},
   "outputs": [
    {
     "data": {
      "text/plain": [
       "[1, 2, 3, 4, 5, 6, 7, 8, 7, 8, 7, 8, 9]"
      ]
     },
     "execution_count": 58,
     "metadata": {},
     "output_type": "execute_result"
    }
   ],
   "source": [
    "x"
   ]
  },
  {
   "cell_type": "code",
   "execution_count": 60,
   "id": "59da2f93-1af7-49de-bec7-1e1cb44c0775",
   "metadata": {},
   "outputs": [
    {
     "ename": "AttributeError",
     "evalue": "'list' object has no attribute 'cut'",
     "output_type": "error",
     "traceback": [
      "\u001b[1;31m---------------------------------------------------------------------------\u001b[0m",
      "\u001b[1;31mAttributeError\u001b[0m                            Traceback (most recent call last)",
      "Cell \u001b[1;32mIn[60], line 1\u001b[0m\n\u001b[1;32m----> 1\u001b[0m x\u001b[38;5;241m.\u001b[39mcut([\u001b[38;5;241m7\u001b[39m,\u001b[38;5;241m8\u001b[39m])\n",
      "\u001b[1;31mAttributeError\u001b[0m: 'list' object has no attribute 'cut'"
     ]
    }
   ],
   "source": [
    "x.cut([7,8])"
   ]
  },
  {
   "cell_type": "code",
   "execution_count": 76,
   "id": "313c9326-a588-4098-bd95-bb2929583a78",
   "metadata": {},
   "outputs": [],
   "source": [
    "x=[1,2,3,4,5,6,7]"
   ]
  },
  {
   "cell_type": "code",
   "execution_count": 78,
   "id": "2fa9d45c-dced-4d09-b521-f21502c398b6",
   "metadata": {},
   "outputs": [
    {
     "data": {
      "text/plain": [
       "[1, 2, 3, 4, 5, 6, 7]"
      ]
     },
     "execution_count": 78,
     "metadata": {},
     "output_type": "execute_result"
    }
   ],
   "source": [
    "x"
   ]
  },
  {
   "cell_type": "code",
   "execution_count": 80,
   "id": "32c06e75-ee3e-40c7-9f10-3f40e8d84b46",
   "metadata": {},
   "outputs": [
    {
     "name": "stdout",
     "output_type": "stream",
     "text": [
      "7\n"
     ]
    }
   ],
   "source": [
    "print(len(x))"
   ]
  },
  {
   "cell_type": "code",
   "execution_count": 82,
   "id": "12d6c1fe-1303-44e7-9f8a-34c99657c5be",
   "metadata": {},
   "outputs": [
    {
     "data": {
      "text/plain": [
       "2"
      ]
     },
     "execution_count": 82,
     "metadata": {},
     "output_type": "execute_result"
    }
   ],
   "source": [
    "x[1]"
   ]
  },
  {
   "cell_type": "code",
   "execution_count": 84,
   "id": "df25d530-537f-4d7c-959d-3617a1af800f",
   "metadata": {},
   "outputs": [
    {
     "data": {
      "text/plain": [
       "1"
      ]
     },
     "execution_count": 84,
     "metadata": {},
     "output_type": "execute_result"
    }
   ],
   "source": [
    "x[0]"
   ]
  },
  {
   "cell_type": "code",
   "execution_count": 88,
   "id": "192e46b9-ee8c-41b3-8c2f-15e233f0fbf3",
   "metadata": {},
   "outputs": [],
   "source": [
    "x.extend([8,9])"
   ]
  },
  {
   "cell_type": "code",
   "execution_count": 90,
   "id": "bd6dfbaa-ffb3-4c43-b00c-8a982e19ce92",
   "metadata": {},
   "outputs": [
    {
     "data": {
      "text/plain": [
       "[1, 2, 3, 4, 5, 6, 7, 8, 9]"
      ]
     },
     "execution_count": 90,
     "metadata": {},
     "output_type": "execute_result"
    }
   ],
   "source": [
    "x"
   ]
  },
  {
   "cell_type": "code",
   "execution_count": 96,
   "id": "3e80e5e6-7ea2-4417-8f68-f1e716df4303",
   "metadata": {},
   "outputs": [
    {
     "ename": "TypeError",
     "evalue": "list.append() takes exactly one argument (2 given)",
     "output_type": "error",
     "traceback": [
      "\u001b[1;31m---------------------------------------------------------------------------\u001b[0m",
      "\u001b[1;31mTypeError\u001b[0m                                 Traceback (most recent call last)",
      "Cell \u001b[1;32mIn[96], line 1\u001b[0m\n\u001b[1;32m----> 1\u001b[0m x\u001b[38;5;241m.\u001b[39mappend(\u001b[38;5;241m10\u001b[39m,\u001b[38;5;241m11\u001b[39m)\n",
      "\u001b[1;31mTypeError\u001b[0m: list.append() takes exactly one argument (2 given)"
     ]
    }
   ],
   "source": [
    "x.append(10,11)"
   ]
  },
  {
   "cell_type": "code",
   "execution_count": 94,
   "id": "13eef1ef-dacc-43d1-b8aa-e0e2ea7a9fde",
   "metadata": {},
   "outputs": [
    {
     "data": {
      "text/plain": [
       "[1, 2, 3, 4, 5, 6, 7, 8, 9, [10, 11]]"
      ]
     },
     "execution_count": 94,
     "metadata": {},
     "output_type": "execute_result"
    }
   ],
   "source": [
    "x"
   ]
  },
  {
   "cell_type": "code",
   "execution_count": 100,
   "id": "522a08da-01af-488b-b1f8-7c269b073ec8",
   "metadata": {},
   "outputs": [],
   "source": [
    "A=np.random.normal(25.0,5.0,size=(2,5))"
   ]
  },
  {
   "cell_type": "code",
   "execution_count": 102,
   "id": "1036ad8a-fb9a-41d0-ab4c-f3d828f40073",
   "metadata": {},
   "outputs": [
    {
     "data": {
      "text/plain": [
       "array([[20.61971432, 28.61208611, 23.53765282, 34.50673104, 21.90582426],\n",
       "       [31.75951564, 19.77159938, 26.00278312, 30.08826566, 28.26831674]])"
      ]
     },
     "execution_count": 102,
     "metadata": {},
     "output_type": "execute_result"
    }
   ],
   "source": [
    "A"
   ]
  },
  {
   "cell_type": "code",
   "execution_count": 104,
   "id": "5df4e0dc-6d65-457c-a3fe-ba3e7a14ecd5",
   "metadata": {},
   "outputs": [
    {
     "name": "stdout",
     "output_type": "stream",
     "text": [
      "[[20.61971432 28.61208611 23.53765282 34.50673104 21.90582426]\n",
      " [31.75951564 19.77159938 26.00278312 30.08826566 28.26831674]]\n"
     ]
    }
   ],
   "source": [
    "print(A)"
   ]
  },
  {
   "cell_type": "code",
   "execution_count": 106,
   "id": "3ad00c53-c082-4a99-9346-4e11413ce123",
   "metadata": {},
   "outputs": [
    {
     "data": {
      "text/plain": [
       "[1, 2, 3, 4, 5, 6, 7, 8, 9, [10, 11]]"
      ]
     },
     "execution_count": 106,
     "metadata": {},
     "output_type": "execute_result"
    }
   ],
   "source": [
    "x"
   ]
  },
  {
   "cell_type": "code",
   "execution_count": 108,
   "id": "445be0c4-35e9-4102-a554-a5828d3adc32",
   "metadata": {},
   "outputs": [],
   "source": [
    "y=[10,11,12]"
   ]
  },
  {
   "cell_type": "code",
   "execution_count": 110,
   "id": "89a6d658-cf4f-489a-96dd-cd3ad7a9eb08",
   "metadata": {},
   "outputs": [
    {
     "data": {
      "text/plain": [
       "[10, 11, 12]"
      ]
     },
     "execution_count": 110,
     "metadata": {},
     "output_type": "execute_result"
    }
   ],
   "source": [
    "y"
   ]
  },
  {
   "cell_type": "code",
   "execution_count": 112,
   "id": "dc192007-feb1-45f5-925b-9f05841426db",
   "metadata": {},
   "outputs": [],
   "source": [
    "listoflist=[x,y]"
   ]
  },
  {
   "cell_type": "code",
   "execution_count": 116,
   "id": "eb24d348-1f2a-466b-b245-d5777ec65138",
   "metadata": {},
   "outputs": [
    {
     "data": {
      "text/plain": [
       "[[1, 2, 3, 4, 5, 6, 7, 8, 9, [10, 11]], [10, 11, 12]]"
      ]
     },
     "execution_count": 116,
     "metadata": {},
     "output_type": "execute_result"
    }
   ],
   "source": [
    "listoflist"
   ]
  },
  {
   "cell_type": "code",
   "execution_count": 118,
   "id": "64cc3bfe-2bf1-4e6a-ba86-d1abb193bd26",
   "metadata": {},
   "outputs": [
    {
     "data": {
      "text/plain": [
       "11"
      ]
     },
     "execution_count": 118,
     "metadata": {},
     "output_type": "execute_result"
    }
   ],
   "source": [
    "y[1]"
   ]
  },
  {
   "cell_type": "code",
   "execution_count": 120,
   "id": "548f7e9a-a7a9-4e62-b8ed-c5bdb13e76e7",
   "metadata": {},
   "outputs": [
    {
     "data": {
      "text/plain": [
       "10"
      ]
     },
     "execution_count": 120,
     "metadata": {},
     "output_type": "execute_result"
    }
   ],
   "source": [
    "y[0]"
   ]
  },
  {
   "cell_type": "code",
   "execution_count": 122,
   "id": "be3d2f56-98ae-4f3d-9b98-71004c866be9",
   "metadata": {},
   "outputs": [],
   "source": [
    "z=[3,2,1]"
   ]
  },
  {
   "cell_type": "code",
   "execution_count": 124,
   "id": "701dfeb8-39ae-45cb-a44e-05a797a11a3d",
   "metadata": {},
   "outputs": [],
   "source": [
    "z.sort()"
   ]
  },
  {
   "cell_type": "code",
   "execution_count": 126,
   "id": "c44f6fef-162f-43d0-adbe-8ba27b40db72",
   "metadata": {},
   "outputs": [
    {
     "data": {
      "text/plain": [
       "[1, 2, 3]"
      ]
     },
     "execution_count": 126,
     "metadata": {},
     "output_type": "execute_result"
    }
   ],
   "source": [
    "z"
   ]
  },
  {
   "cell_type": "code",
   "execution_count": 128,
   "id": "bca5ac0d-8af9-4670-bf84-3814b203337c",
   "metadata": {},
   "outputs": [
    {
     "ename": "AttributeError",
     "evalue": "'list' object has no attribute 'decendingorder'",
     "output_type": "error",
     "traceback": [
      "\u001b[1;31m---------------------------------------------------------------------------\u001b[0m",
      "\u001b[1;31mAttributeError\u001b[0m                            Traceback (most recent call last)",
      "Cell \u001b[1;32mIn[128], line 1\u001b[0m\n\u001b[1;32m----> 1\u001b[0m z\u001b[38;5;241m.\u001b[39mdecendingorder()\n",
      "\u001b[1;31mAttributeError\u001b[0m: 'list' object has no attribute 'decendingorder'"
     ]
    }
   ],
   "source": [
    "z.decendingorder()"
   ]
  },
  {
   "cell_type": "code",
   "execution_count": 132,
   "id": "2a889225-227e-4d5e-8a80-6626be468702",
   "metadata": {},
   "outputs": [],
   "source": [
    "z.sort(reverse=True)"
   ]
  },
  {
   "cell_type": "code",
   "execution_count": 134,
   "id": "99d096bf-5583-4c8b-a11c-44f7ca49ddd1",
   "metadata": {},
   "outputs": [
    {
     "data": {
      "text/plain": [
       "[3, 2, 1]"
      ]
     },
     "execution_count": 134,
     "metadata": {},
     "output_type": "execute_result"
    }
   ],
   "source": []
  },
  {
   "cell_type": "code",
   "execution_count": 136,
   "id": "6d0808d0-2f51-4dcc-9a66-9ce5f93d7f36",
   "metadata": {},
   "outputs": [
    {
     "name": "stdin",
     "output_type": "stream",
     "text": [
      "How many terms?  5\n"
     ]
    },
    {
     "name": "stdout",
     "output_type": "stream",
     "text": [
      "[0, 1, 1, 2, 3]\n"
     ]
    }
   ],
   "source": [
    "def fibonacci(n):\n",
    "    if n <= 0:\n",
    "        return \"Please enter a positive integer\"\n",
    "    elif n == 1:\n",
    "        return [0]\n",
    "    elif n == 2:\n",
    "        return [0, 1]\n",
    "    else:\n",
    "        fib_sequence = [0, 1]\n",
    "        for i in range(2, n):\n",
    "            next_number = fib_sequence[-1] + fib_sequence[-2]\n",
    "            fib_sequence.append(next_number)\n",
    "        return fib_sequence\n",
    "\n",
    "# Example usage:\n",
    "n = int(input(\"How many terms? \"))\n",
    "print(fibonacci(n))\n"
   ]
  },
  {
   "cell_type": "code",
   "execution_count": null,
   "id": "b7e4233b-da46-4a52-b2e3-53cc8fb05d36",
   "metadata": {},
   "outputs": [],
   "source": []
  }
 ],
 "metadata": {
  "kernelspec": {
   "display_name": "Python 3 (ipykernel)",
   "language": "python",
   "name": "python3"
  },
  "language_info": {
   "codemirror_mode": {
    "name": "ipython",
    "version": 3
   },
   "file_extension": ".py",
   "mimetype": "text/x-python",
   "name": "python",
   "nbconvert_exporter": "python",
   "pygments_lexer": "ipython3",
   "version": "3.12.4"
  }
 },
 "nbformat": 4,
 "nbformat_minor": 5
}
