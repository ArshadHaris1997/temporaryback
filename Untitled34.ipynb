{
 "cells": [
  {
   "cell_type": "code",
   "execution_count": 5,
   "id": "cb0e1458-f717-4ff5-ab48-71521a720070",
   "metadata": {},
   "outputs": [
    {
     "name": "stderr",
     "output_type": "stream",
     "text": [
      "C:\\Users\\ASUS\\AppData\\Local\\Temp\\ipykernel_1308\\1165509730.py:4: DtypeWarning: Columns (1) have mixed types. Specify dtype option on import or set low_memory=False.\n",
      "  df = pd.read_csv('ODI_Match_Data.csv')\n"
     ]
    },
    {
     "name": "stdout",
     "output_type": "stream",
     "text": [
      "Available columns: ['match_id', 'season', 'start_date', 'venue', 'innings', 'ball', 'batting_team', 'bowling_team', 'striker', 'non_striker', 'bowler', 'runs_off_bat', 'extras', 'wides', 'noballs', 'byes', 'legbyes', 'penalty', 'wicket_type', 'player_dismissed', 'other_wicket_type', 'other_player_dismissed', 'cricsheet_id']\n",
      "\n",
      "Mapped columns: {'match_id': 'match_id', 'venue': 'venue', 'innings': 'innings', 'batting_team': 'batting_team', 'bowling_team': 'bowling_team', 'ball': 'ball', 'runs_off_bat': 'runs_off_bat', 'extras': 'extras', 'player_dismissed': 'player_dismissed', 'bowler': 'bowler'}\n",
      "\n",
      "⚠️ Warning: Missing columns in data: ['over', 'batsman']\n",
      "\n",
      "✅ Dataframe is ready for processing!\n",
      "   match_id                           venue  innings batting_team  \\\n",
      "0   1389389  Holkar Cricket Stadium, Indore        1        India   \n",
      "1   1389389  Holkar Cricket Stadium, Indore        1        India   \n",
      "2   1389389  Holkar Cricket Stadium, Indore        1        India   \n",
      "3   1389389  Holkar Cricket Stadium, Indore        1        India   \n",
      "4   1389389  Holkar Cricket Stadium, Indore        1        India   \n",
      "\n",
      "  bowling_team  ball  runs_off_bat  extras player_dismissed      bowler  over  \\\n",
      "0    Australia   0.1             4       0              NaN  SH Johnson     0   \n",
      "1    Australia   0.2             0       0              NaN  SH Johnson     0   \n",
      "2    Australia   0.3             4       0              NaN  SH Johnson     0   \n",
      "3    Australia   0.4             0       0              NaN  SH Johnson     0   \n",
      "4    Australia   0.5             0       0              NaN  SH Johnson     0   \n",
      "\n",
      "   total_runs  \n",
      "0           4  \n",
      "1           0  \n",
      "2           4  \n",
      "3           0  \n",
      "4           0  \n"
     ]
    }
   ],
   "source": [
    "import pandas as pd\n",
    "\n",
    "# 1. Load data\n",
    "df = pd.read_csv('ODI_Match_Data.csv')\n",
    "\n",
    "# 2. Check available columns\n",
    "print(\"Available columns:\", df.columns.tolist())\n",
    "\n",
    "# 3. Define standard mapping (expected names -> real names)\n",
    "column_mapping = {\n",
    "    'match_id': ['match_id', 'Match_Id', 'id'],\n",
    "    'venue': ['venue', 'Venue'],\n",
    "    'innings': ['innings', 'Innings'],\n",
    "    'batting_team': ['batting_team', 'BattingTeam', 'bat_team'],\n",
    "    'bowling_team': ['bowling_team', 'BowlingTeam', 'bowl_team'],\n",
    "    'ball': ['ball', 'Ball'],\n",
    "    'over': ['over', 'Over'],  # Sometimes need to extract from ball if missing\n",
    "    'runs_off_bat': ['runs_off_bat', 'batsman_runs', 'runs'],\n",
    "    'extras': ['extras', 'Extras', 'extra_runs'],\n",
    "    'player_dismissed': ['player_dismissed', 'player_out', 'wicket_player_out'],\n",
    "    'bowler': ['bowler', 'Bowler', 'bowler_name'],\n",
    "    'batsman': ['batsman', 'Batsman', 'batsman_name']\n",
    "}\n",
    "\n",
    "# 4. Auto map columns\n",
    "final_columns = {}\n",
    "for standard_col, possible_names in column_mapping.items():\n",
    "    for name in possible_names:\n",
    "        if name in df.columns:\n",
    "            final_columns[standard_col] = name\n",
    "            break\n",
    "\n",
    "print(\"\\nMapped columns:\", final_columns)\n",
    "\n",
    "# 5. Keep only the matched columns\n",
    "missing_cols = [col for col in column_mapping.keys() if col not in final_columns]\n",
    "if missing_cols:\n",
    "    print(f\"\\n⚠️ Warning: Missing columns in data: {missing_cols}\")\n",
    "\n",
    "# Select and Rename\n",
    "df = df[[final_columns[col] for col in final_columns]]\n",
    "df = df.rename(columns={v: k for k, v in final_columns.items()})\n",
    "\n",
    "# 6. Handle missing 'over' (calculate from ball if needed)\n",
    "if 'over' not in df.columns and 'ball' in df.columns:\n",
    "    df['over'] = df['ball'].astype(str).str.split('.').str[0].astype(int)\n",
    "\n",
    "# 7. Create total_runs column\n",
    "if 'extras' in df.columns:\n",
    "    df['total_runs'] = df['runs_off_bat'] + df['extras']\n",
    "else:\n",
    "    df['total_runs'] = df['runs_off_bat']\n",
    "\n",
    "print(\"\\n✅ Dataframe is ready for processing!\")\n",
    "print(df.head())\n"
   ]
  },
  {
   "cell_type": "code",
   "execution_count": 7,
   "id": "fcd9a245-333d-46ee-812c-eff2e90fef51",
   "metadata": {},
   "outputs": [
    {
     "ename": "KeyError",
     "evalue": "'batsman'",
     "output_type": "error",
     "traceback": [
      "\u001b[1;31m---------------------------------------------------------------------------\u001b[0m",
      "\u001b[1;31mKeyError\u001b[0m                                  Traceback (most recent call last)",
      "Cell \u001b[1;32mIn[7], line 9\u001b[0m\n\u001b[0;32m      5\u001b[0m death_overs_df \u001b[38;5;241m=\u001b[39m df[(df[\u001b[38;5;124m'\u001b[39m\u001b[38;5;124mover\u001b[39m\u001b[38;5;124m'\u001b[39m] \u001b[38;5;241m>\u001b[39m\u001b[38;5;241m=\u001b[39m \u001b[38;5;241m45\u001b[39m) \u001b[38;5;241m&\u001b[39m (df[\u001b[38;5;124m'\u001b[39m\u001b[38;5;124mover\u001b[39m\u001b[38;5;124m'\u001b[39m] \u001b[38;5;241m<\u001b[39m\u001b[38;5;241m=\u001b[39m \u001b[38;5;241m50\u001b[39m)]\n\u001b[0;32m      7\u001b[0m \u001b[38;5;66;03m# --- Top Death Over Batsmen ---\u001b[39;00m\n\u001b[0;32m      8\u001b[0m death_batsmen \u001b[38;5;241m=\u001b[39m (death_overs_df\n\u001b[1;32m----> 9\u001b[0m                  \u001b[38;5;241m.\u001b[39mgroupby(\u001b[38;5;124m'\u001b[39m\u001b[38;5;124mbatsman\u001b[39m\u001b[38;5;124m'\u001b[39m)[\u001b[38;5;124m'\u001b[39m\u001b[38;5;124mtotal_runs\u001b[39m\u001b[38;5;124m'\u001b[39m]\n\u001b[0;32m     10\u001b[0m                  \u001b[38;5;241m.\u001b[39msum()\n\u001b[0;32m     11\u001b[0m                  \u001b[38;5;241m.\u001b[39msort_values(ascending\u001b[38;5;241m=\u001b[39m\u001b[38;5;28;01mFalse\u001b[39;00m)\n\u001b[0;32m     12\u001b[0m                  \u001b[38;5;241m.\u001b[39mhead(\u001b[38;5;241m10\u001b[39m))\n\u001b[0;32m     14\u001b[0m \u001b[38;5;66;03m# Plot\u001b[39;00m\n\u001b[0;32m     15\u001b[0m plt\u001b[38;5;241m.\u001b[39mfigure(figsize\u001b[38;5;241m=\u001b[39m(\u001b[38;5;241m12\u001b[39m,\u001b[38;5;241m6\u001b[39m))\n",
      "File \u001b[1;32m~\\anaconda3\\Lib\\site-packages\\pandas\\core\\frame.py:9183\u001b[0m, in \u001b[0;36mDataFrame.groupby\u001b[1;34m(self, by, axis, level, as_index, sort, group_keys, observed, dropna)\u001b[0m\n\u001b[0;32m   9180\u001b[0m \u001b[38;5;28;01mif\u001b[39;00m level \u001b[38;5;129;01mis\u001b[39;00m \u001b[38;5;28;01mNone\u001b[39;00m \u001b[38;5;129;01mand\u001b[39;00m by \u001b[38;5;129;01mis\u001b[39;00m \u001b[38;5;28;01mNone\u001b[39;00m:\n\u001b[0;32m   9181\u001b[0m     \u001b[38;5;28;01mraise\u001b[39;00m \u001b[38;5;167;01mTypeError\u001b[39;00m(\u001b[38;5;124m\"\u001b[39m\u001b[38;5;124mYou have to supply one of \u001b[39m\u001b[38;5;124m'\u001b[39m\u001b[38;5;124mby\u001b[39m\u001b[38;5;124m'\u001b[39m\u001b[38;5;124m and \u001b[39m\u001b[38;5;124m'\u001b[39m\u001b[38;5;124mlevel\u001b[39m\u001b[38;5;124m'\u001b[39m\u001b[38;5;124m\"\u001b[39m)\n\u001b[1;32m-> 9183\u001b[0m \u001b[38;5;28;01mreturn\u001b[39;00m DataFrameGroupBy(\n\u001b[0;32m   9184\u001b[0m     obj\u001b[38;5;241m=\u001b[39m\u001b[38;5;28mself\u001b[39m,\n\u001b[0;32m   9185\u001b[0m     keys\u001b[38;5;241m=\u001b[39mby,\n\u001b[0;32m   9186\u001b[0m     axis\u001b[38;5;241m=\u001b[39maxis,\n\u001b[0;32m   9187\u001b[0m     level\u001b[38;5;241m=\u001b[39mlevel,\n\u001b[0;32m   9188\u001b[0m     as_index\u001b[38;5;241m=\u001b[39mas_index,\n\u001b[0;32m   9189\u001b[0m     sort\u001b[38;5;241m=\u001b[39msort,\n\u001b[0;32m   9190\u001b[0m     group_keys\u001b[38;5;241m=\u001b[39mgroup_keys,\n\u001b[0;32m   9191\u001b[0m     observed\u001b[38;5;241m=\u001b[39mobserved,\n\u001b[0;32m   9192\u001b[0m     dropna\u001b[38;5;241m=\u001b[39mdropna,\n\u001b[0;32m   9193\u001b[0m )\n",
      "File \u001b[1;32m~\\anaconda3\\Lib\\site-packages\\pandas\\core\\groupby\\groupby.py:1329\u001b[0m, in \u001b[0;36mGroupBy.__init__\u001b[1;34m(self, obj, keys, axis, level, grouper, exclusions, selection, as_index, sort, group_keys, observed, dropna)\u001b[0m\n\u001b[0;32m   1326\u001b[0m \u001b[38;5;28mself\u001b[39m\u001b[38;5;241m.\u001b[39mdropna \u001b[38;5;241m=\u001b[39m dropna\n\u001b[0;32m   1328\u001b[0m \u001b[38;5;28;01mif\u001b[39;00m grouper \u001b[38;5;129;01mis\u001b[39;00m \u001b[38;5;28;01mNone\u001b[39;00m:\n\u001b[1;32m-> 1329\u001b[0m     grouper, exclusions, obj \u001b[38;5;241m=\u001b[39m get_grouper(\n\u001b[0;32m   1330\u001b[0m         obj,\n\u001b[0;32m   1331\u001b[0m         keys,\n\u001b[0;32m   1332\u001b[0m         axis\u001b[38;5;241m=\u001b[39maxis,\n\u001b[0;32m   1333\u001b[0m         level\u001b[38;5;241m=\u001b[39mlevel,\n\u001b[0;32m   1334\u001b[0m         sort\u001b[38;5;241m=\u001b[39msort,\n\u001b[0;32m   1335\u001b[0m         observed\u001b[38;5;241m=\u001b[39m\u001b[38;5;28;01mFalse\u001b[39;00m \u001b[38;5;28;01mif\u001b[39;00m observed \u001b[38;5;129;01mis\u001b[39;00m lib\u001b[38;5;241m.\u001b[39mno_default \u001b[38;5;28;01melse\u001b[39;00m observed,\n\u001b[0;32m   1336\u001b[0m         dropna\u001b[38;5;241m=\u001b[39m\u001b[38;5;28mself\u001b[39m\u001b[38;5;241m.\u001b[39mdropna,\n\u001b[0;32m   1337\u001b[0m     )\n\u001b[0;32m   1339\u001b[0m \u001b[38;5;28;01mif\u001b[39;00m observed \u001b[38;5;129;01mis\u001b[39;00m lib\u001b[38;5;241m.\u001b[39mno_default:\n\u001b[0;32m   1340\u001b[0m     \u001b[38;5;28;01mif\u001b[39;00m \u001b[38;5;28many\u001b[39m(ping\u001b[38;5;241m.\u001b[39m_passed_categorical \u001b[38;5;28;01mfor\u001b[39;00m ping \u001b[38;5;129;01min\u001b[39;00m grouper\u001b[38;5;241m.\u001b[39mgroupings):\n",
      "File \u001b[1;32m~\\anaconda3\\Lib\\site-packages\\pandas\\core\\groupby\\grouper.py:1043\u001b[0m, in \u001b[0;36mget_grouper\u001b[1;34m(obj, key, axis, level, sort, observed, validate, dropna)\u001b[0m\n\u001b[0;32m   1041\u001b[0m         in_axis, level, gpr \u001b[38;5;241m=\u001b[39m \u001b[38;5;28;01mFalse\u001b[39;00m, gpr, \u001b[38;5;28;01mNone\u001b[39;00m\n\u001b[0;32m   1042\u001b[0m     \u001b[38;5;28;01melse\u001b[39;00m:\n\u001b[1;32m-> 1043\u001b[0m         \u001b[38;5;28;01mraise\u001b[39;00m \u001b[38;5;167;01mKeyError\u001b[39;00m(gpr)\n\u001b[0;32m   1044\u001b[0m \u001b[38;5;28;01melif\u001b[39;00m \u001b[38;5;28misinstance\u001b[39m(gpr, Grouper) \u001b[38;5;129;01mand\u001b[39;00m gpr\u001b[38;5;241m.\u001b[39mkey \u001b[38;5;129;01mis\u001b[39;00m \u001b[38;5;129;01mnot\u001b[39;00m \u001b[38;5;28;01mNone\u001b[39;00m:\n\u001b[0;32m   1045\u001b[0m     \u001b[38;5;66;03m# Add key to exclusions\u001b[39;00m\n\u001b[0;32m   1046\u001b[0m     exclusions\u001b[38;5;241m.\u001b[39madd(gpr\u001b[38;5;241m.\u001b[39mkey)\n",
      "\u001b[1;31mKeyError\u001b[0m: 'batsman'"
     ]
    }
   ],
   "source": [
    "import matplotlib.pyplot as plt\n",
    "import seaborn as sns\n",
    "\n",
    "# Focus only on overs 45-50\n",
    "death_overs_df = df[(df['over'] >= 45) & (df['over'] <= 50)]\n",
    "\n",
    "# --- Top Death Over Batsmen ---\n",
    "death_batsmen = (death_overs_df\n",
    "                 .groupby('batsman')['total_runs']\n",
    "                 .sum()\n",
    "                 .sort_values(ascending=False)\n",
    "                 .head(10))\n",
    "\n",
    "# Plot\n",
    "plt.figure(figsize=(12,6))\n",
    "sns.barplot(x=death_batsmen.values, y=death_batsmen.index, palette='coolwarm')\n",
    "plt.title('🏏 Top 10 Death Over Batsmen (45-50 overs)', fontsize=16)\n",
    "plt.xlabel('Runs Scored')\n",
    "plt.ylabel('Batsman')\n",
    "plt.show()\n",
    "\n",
    "# --- Top Death Over Bowlers (Wickets) ---\n",
    "death_bowlers = (death_overs_df[~death_overs_df['player_dismissed'].isna()]\n",
    "                 .groupby('bowler')\n",
    "                 .size()\n",
    "                 .sort_values(ascending=False)\n",
    "                 .head(10))\n",
    "\n",
    "# Plot\n",
    "plt.figure(figsize=(12,6))\n",
    "sns.barplot(x=death_bowlers.values, y=death_bowlers.index, palette='mako')\n",
    "plt.title('🔥 Top 10 Death Over Bowlers (45-50 overs)', fontsize=16)\n",
    "plt.xlabel('Wickets Taken')\n",
    "plt.ylabel('Bowler')\n",
    "plt.show()\n"
   ]
  },
  {
   "cell_type": "code",
   "execution_count": null,
   "id": "27728e28-ff51-4d45-b4d6-b2ed549c6430",
   "metadata": {},
   "outputs": [],
   "source": []
  }
 ],
 "metadata": {
  "kernelspec": {
   "display_name": "Python 3 (ipykernel)",
   "language": "python",
   "name": "python3"
  },
  "language_info": {
   "codemirror_mode": {
    "name": "ipython",
    "version": 3
   },
   "file_extension": ".py",
   "mimetype": "text/x-python",
   "name": "python",
   "nbconvert_exporter": "python",
   "pygments_lexer": "ipython3",
   "version": "3.12.4"
  }
 },
 "nbformat": 4,
 "nbformat_minor": 5
}
