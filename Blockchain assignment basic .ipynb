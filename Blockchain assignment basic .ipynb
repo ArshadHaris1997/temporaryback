{
 "cells": [
  {
   "cell_type": "code",
   "execution_count": 1,
   "id": "96a4b5e5-fbb1-4f92-a837-66b027654334",
   "metadata": {},
   "outputs": [],
   "source": [
    "import hashlib"
   ]
  },
  {
   "cell_type": "code",
   "execution_count": 2,
   "id": "dd8ca9c7-1981-4ccc-b5d5-b8fd59fb3158",
   "metadata": {},
   "outputs": [],
   "source": [
    "import json"
   ]
  },
  {
   "cell_type": "code",
   "execution_count": 3,
   "id": "8ad67e43-d4cd-474e-b33e-f90dacd14445",
   "metadata": {},
   "outputs": [],
   "source": [
    "from time import time\n",
    "from typing import List"
   ]
  },
  {
   "cell_type": "code",
   "execution_count": 4,
   "id": "3c72eb84-696f-47e3-8d07-8fbf8d039de0",
   "metadata": {},
   "outputs": [],
   "source": [
    "class Block:\n",
    "    def _init_(self, index, previous_hash, timestamp, data, nonce=0):\n",
    "        slef.index=index\n",
    "        self.previous_hash = previous_hash\n",
    "        self.timestamp = timestamp\n",
    "        self.data = data\n",
    "        self.nonce = nonce\n",
    "        self.hash = self.compute_hash()\n",
    "\n",
    "    def compute_hash(self):\n",
    "        block_string = json.dumps(self._dict_, sort_keys=True)\n",
    "        return hashlib.sha256(block_string.encode()).hexdigest()\n",
    "\n",
    "class Blockchain:\n",
    "    def _init_(self):\n",
    "        self.chain: List[Block] = []\n",
    "        self.create_genesis_block()\n",
    "        self.difficulty = 2\n",
    "\n",
    "    def create_genesis_block(self):\n",
    "        genesis_block = Block(0, \"0\", time(), \"Geneis Block\")\n",
    "        self.chain.append(genesis_block)\n",
    "\n",
    "    def get_last_block(self):\n",
    "        return self.chain[-1]\n",
    "\n",
    "\n",
    "    def add_block(self, data):\n",
    "        last_block = self.get_last_block()\n",
    "        new_block = Block(len(self.chain), last_block.hash, time(), data)\n",
    "        new_block = self.proof_of_work(new_block)\n",
    "        self.chain.append(new_block)\n",
    "\n",
    "    def proof_of_work(self, block):\n",
    "        block.nonce = 0\n",
    "        computed_hash = block.compute_hash()\n",
    "        while not computed_hash.startswith('0' * self.difficulty):\n",
    "            block.nonce += 1\n",
    "            computed_hash = block.compute_hash()\n",
    "        block.hash = computed_hash\n",
    "        return block\n",
    "\n",
    "    def is_valid_chain(self, chain):\n",
    "        for i in range(1, len(chain)):\n",
    "            current = chain[i]\n",
    "            previous = chain[i - 1]\n",
    "            if current.hash != current.compute_hash():\n",
    "                return False\n",
    "            if current.previous_hash != previous.hash:\n",
    "                return False\n",
    "        return True\n",
    "\n",
    "\n",
    "    def resolve_conflicts(self, other_chains: List[List[Block]]):\n",
    "        new_chain = None\n",
    "        max_length = len(self.chain)\n",
    "\n",
    "        for chain in other_chains:\n",
    "            if len(chain) > max_length and self.is_valid_chain(chain):\n",
    "                max_length = len(chain)\n",
    "                new_chain = chain\n",
    "\n",
    "        if new_chain:\n",
    "            self.chain = new_chain\n",
    "            return True\n",
    "        return False\n",
    "\n",
    "    \n",
    "    def display_chain(self):\n",
    "        # Print detailed information for each block in the blockchain\n",
    "        for block in self.chain:\n",
    "            print(f\"Index: {block.index}\")\n",
    "            print(f\"Timestamp: {block.timestamp}\")\n",
    "            print(f\"Data: {block.data}\")\n",
    "            print(f\"Previous Hash: {block.previous_hash}\")\n",
    "            print(f\"Nonce: {block.nonce}\")\n",
    "            print(f\"Hash: {block.hash}\")\n",
    "            print(\"-\" * 50)\n",
    "    "
   ]
  },
  {
   "cell_type": "code",
   "execution_count": null,
   "id": "410bba9e-ceff-42ee-8d37-6e66f862c93b",
   "metadata": {},
   "outputs": [],
   "source": []
  },
  {
   "cell_type": "code",
   "execution_count": null,
   "id": "a4e34b5e-e3a7-4329-b053-3921d783ef5f",
   "metadata": {},
   "outputs": [],
   "source": []
  }
 ],
 "metadata": {
  "kernelspec": {
   "display_name": "Python 3 (ipykernel)",
   "language": "python",
   "name": "python3"
  },
  "language_info": {
   "codemirror_mode": {
    "name": "ipython",
    "version": 3
   },
   "file_extension": ".py",
   "mimetype": "text/x-python",
   "name": "python",
   "nbconvert_exporter": "python",
   "pygments_lexer": "ipython3",
   "version": "3.12.4"
  }
 },
 "nbformat": 4,
 "nbformat_minor": 5
}
