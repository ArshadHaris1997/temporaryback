{
 "cells": [
  {
   "cell_type": "code",
   "execution_count": 1,
   "id": "66f88d60-c80d-4323-8043-a71befde136c",
   "metadata": {},
   "outputs": [
    {
     "name": "stderr",
     "output_type": "stream",
     "text": [
      "2025-06-24 00:19:23.111 \n",
      "  \u001b[33m\u001b[1mWarning:\u001b[0m to view this Streamlit app on a browser, run it with the following\n",
      "  command:\n",
      "\n",
      "    streamlit run C:\\Users\\ASUS\\anaconda3\\Lib\\site-packages\\ipykernel_launcher.py [ARGUMENTS]\n"
     ]
    }
   ],
   "source": [
    "import streamlit as st\n",
    "import joblib\n",
    "import numpy as np\n",
    "\n",
    "# Load trained model\n",
    "model = joblib.load(\"match_outcome_model.pkl\")\n",
    "\n",
    "st.set_page_config(page_title=\"Match Outcome Predictor\", page_icon=\"🏏\")\n",
    "st.title(\"🏏 Match Outcome Predictor (Second Innings)\")\n",
    "st.markdown(\"\"\"\n",
    "This app predicts whether a **chasing team** will win the match based on real-time inputs like current score, overs, wickets, and required run rate.\n",
    "\"\"\")\n",
    "\n",
    "# Input fields\n",
    "target_score = st.number_input(\"🎯 Target Score\", min_value=50, max_value=500, value=270)\n",
    "current_score = st.slider(\"🏏 Current Score\", 0, 500, 150)\n",
    "wickets_in_hand = st.slider(\"🚨 Wickets Remaining\", 0, 10, 7)\n",
    "overs_remaining = st.slider(\"⏳ Overs Remaining\", 0.1, 50.0, 20.0, step=0.1)\n",
    "\n",
    "# Derived features\n",
    "required_run_rate = (target_score - current_score) / overs_remaining if overs_remaining > 0 else 0.0\n",
    "current_run_rate = current_score / (50 - overs_remaining + 0.1)\n",
    "match_pressure_index = required_run_rate / (current_run_rate + 0.1)\n",
    "\n",
    "# Match phase encoding\n",
    "match_phase = st.selectbox(\"Match Phase\", [\"Early\", \"Middle\", \"Death\"])\n",
    "early, middle, death = 0, 0, 0\n",
    "if match_phase == \"Early\":\n",
    "    early = 1\n",
    "elif match_phase == \"Middle\":\n",
    "    middle = 1\n",
    "else:\n",
    "    death = 1\n",
    "\n",
    "# Toss and venue flags\n",
    "toss_winner = st.radio(\"Toss won by chasing team?\", [\"Yes\", \"No\"]) == \"Yes\"\n",
    "venue_advantage = st.radio(\"Venue favours chasing side?\", [\"Yes\", \"No\"]) == \"Yes\"\n",
    "\n",
    "# Final input vector\n",
    "input_features = np.array([[\n",
    "    target_score, current_score, wickets_in_hand, overs_remaining,\n",
    "    required_run_rate, int(toss_winner), int(venue_advantage),\n",
    "    match_pressure_index, early, middle, death\n",
    "]])\n",
    "\n",
    "# Predict\n",
    "if st.button(\"🔮 Predict Outcome\"):\n",
    "    prediction = model.predict(input_features)[0]\n",
    "    proba = model.predict_proba(input_features)[0][1]  # win probability\n",
    "\n",
    "    if prediction == 1:\n",
    "        st.success(f\"✅ Predicted: Chasing team is likely to **WIN**\")\n",
    "    else:\n",
    "        st.error(f\"❌ Predicted: Chasing team is likely to **LOSE**\")\n"
   ]
  },
  {
   "cell_type": "code",
   "execution_count": null,
   "id": "29a9ae95-44cd-42e9-a368-09177eb8ecf7",
   "metadata": {},
   "outputs": [],
   "source": []
  }
 ],
 "metadata": {
  "kernelspec": {
   "display_name": "Python 3 (ipykernel)",
   "language": "python",
   "name": "python3"
  },
  "language_info": {
   "codemirror_mode": {
    "name": "ipython",
    "version": 3
   },
   "file_extension": ".py",
   "mimetype": "text/x-python",
   "name": "python",
   "nbconvert_exporter": "python",
   "pygments_lexer": "ipython3",
   "version": "3.12.4"
  }
 },
 "nbformat": 4,
 "nbformat_minor": 5
}
