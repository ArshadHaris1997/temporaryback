{
 "cells": [
  {
   "cell_type": "code",
   "execution_count": 1,
   "id": "b955c1a8-d11f-4aeb-91c0-af0db30963c5",
   "metadata": {},
   "outputs": [
    {
     "name": "stdout",
     "output_type": "stream",
     "text": [
      "Initial shape: (1000000, 78)\n"
     ]
    },
    {
     "name": "stderr",
     "output_type": "stream",
     "text": [
      "C:\\Users\\ASUS\\AppData\\Local\\Temp\\ipykernel_12844\\2374522504.py:23: FutureWarning: A value is trying to be set on a copy of a DataFrame or Series through chained assignment using an inplace method.\n",
      "The behavior will change in pandas 3.0. This inplace method will never work because the intermediate object on which we are setting values always behaves as a copy.\n",
      "\n",
      "For example, when doing 'df[col].method(value, inplace=True)', try using 'df.method({col: value}, inplace=True)' or df[col] = df[col].method(value) instead, to perform the operation inplace on the original object.\n",
      "\n",
      "\n",
      "  df[col].fillna(df[col].median(), inplace=True)\n",
      "C:\\Users\\ASUS\\AppData\\Local\\Temp\\ipykernel_12844\\2374522504.py:27: FutureWarning: A value is trying to be set on a copy of a DataFrame or Series through chained assignment using an inplace method.\n",
      "The behavior will change in pandas 3.0. This inplace method will never work because the intermediate object on which we are setting values always behaves as a copy.\n",
      "\n",
      "For example, when doing 'df[col].method(value, inplace=True)', try using 'df.method({col: value}, inplace=True)' or df[col] = df[col].method(value) instead, to perform the operation inplace on the original object.\n",
      "\n",
      "\n",
      "  df[col].fillna(df[col].mode()[0], inplace=True)\n"
     ]
    },
    {
     "name": "stdout",
     "output_type": "stream",
     "text": [
      "Cleaned dataset saved as: retail_data_cleaned.csv\n"
     ]
    }
   ],
   "source": [
    "# retail_data_cleaning.ipynb\n",
    "\n",
    "import pandas as pd\n",
    "import numpy as np\n",
    "import os\n",
    "\n",
    "# Load the dataset\n",
    "file_path = 'retail_data.csv'  # Adjust path as needed\n",
    "df = pd.read_csv(file_path)\n",
    "\n",
    "# Display initial shape and sample data\n",
    "print(\"Initial shape:\", df.shape)\n",
    "df.head()\n",
    "\n",
    "# ----------------------------\n",
    "# Clean Missing Data\n",
    "# ----------------------------\n",
    "# Drop columns with too many missing values (threshold can be adjusted)\n",
    "df.dropna(thresh=len(df) * 0.5, axis=1, inplace=True)\n",
    "\n",
    "# Fill numerical columns with median\n",
    "for col in df.select_dtypes(include=[np.number]).columns:\n",
    "    df[col].fillna(df[col].median(), inplace=True)\n",
    "\n",
    "# Fill categorical columns with mode\n",
    "for col in df.select_dtypes(include=[\"object\"]).columns:\n",
    "    df[col].fillna(df[col].mode()[0], inplace=True)\n",
    "\n",
    "# Drop rows missing critical fields (if any)\n",
    "if 'Product_ID' in df.columns and 'Total_Sales' in df.columns:\n",
    "    df.dropna(subset=['Product_ID', 'Total_Sales'], inplace=True)\n",
    "\n",
    "# ----------------------------\n",
    "# Remove Duplicates\n",
    "# ----------------------------\n",
    "df.drop_duplicates(inplace=True)\n",
    "\n",
    "# ----------------------------\n",
    "# Metadata Changes: Rename or Convert Types\n",
    "# ----------------------------\n",
    "# Example renaming\n",
    "rename_dict = {\n",
    "    'Store Code': 'Store_ID',\n",
    "    'Sales Value': 'Total_Sales',\n",
    "    'Transaction Date': 'Date'\n",
    "}\n",
    "df.rename(columns=rename_dict, inplace=True)\n",
    "\n",
    "# Convert date column to datetime if applicable\n",
    "if 'Date' in df.columns:\n",
    "    df['Date'] = pd.to_datetime(df['Date'], errors='coerce')\n",
    "\n",
    "# ----------------------------\n",
    "# Apply Transformations\n",
    "# ----------------------------\n",
    "# Add text length column if there's a description field\n",
    "if 'Product_Description' in df.columns:\n",
    "    df['Description_Length'] = df['Product_Description'].apply(lambda x: len(str(x)))\n",
    "\n",
    "# Create buckets for Total_Sales\n",
    "if 'Total_Sales' in df.columns:\n",
    "    df['Sales_Bucket'] = pd.qcut(df['Total_Sales'], q=4, labels=['Low', 'Medium', 'High', 'Very High'])\n",
    "\n",
    "# ----------------------------\n",
    "# Save cleaned dataset for AutoML\n",
    "# ----------------------------\n",
    "outfile = 'retail_data_cleaned.csv'\n",
    "df.to_csv(outfile, index=False)\n",
    "print(f\"Cleaned dataset saved as: {outfile}\")\n"
   ]
  },
  {
   "cell_type": "code",
   "execution_count": 3,
   "id": "aeffbd39-610d-4214-9df8-46da4b22cb3f",
   "metadata": {},
   "outputs": [
    {
     "name": "stdout",
     "output_type": "stream",
     "text": [
      "['customer_id', 'age', 'gender', 'income_bracket', 'loyalty_program', 'membership_years', 'churned', 'marital_status', 'number_of_children', 'education_level', 'occupation', 'transaction_id', 'transaction_date', 'product_id', 'product_category', 'quantity', 'unit_price', 'discount_applied', 'payment_method', 'store_location', 'transaction_hour', 'day_of_week', 'week_of_year', 'month_of_year', 'avg_purchase_value', 'purchase_frequency', 'last_purchase_date', 'avg_discount_used', 'preferred_store', 'online_purchases', 'in_store_purchases', 'avg_items_per_transaction', 'avg_transaction_value', 'total_returned_items', 'total_returned_value', 'total_sales', 'total_transactions', 'total_items_purchased', 'total_discounts_received', 'avg_spent_per_category', 'max_single_purchase_value', 'min_single_purchase_value', 'product_name', 'product_brand', 'product_rating', 'product_review_count', 'product_stock', 'product_return_rate', 'product_size', 'product_weight', 'product_color', 'product_material', 'product_manufacture_date', 'product_expiry_date', 'product_shelf_life', 'promotion_id', 'promotion_type', 'promotion_start_date', 'promotion_end_date', 'promotion_effectiveness', 'promotion_channel', 'promotion_target_audience', 'customer_zip_code', 'customer_city', 'customer_state', 'store_zip_code', 'store_city', 'store_state', 'distance_to_store', 'holiday_season', 'season', 'weekend', 'customer_support_calls', 'email_subscriptions', 'app_usage', 'website_visits', 'social_media_engagement', 'days_since_last_purchase']\n"
     ]
    }
   ],
   "source": [
    "print(df.columns.tolist())"
   ]
  },
  {
   "cell_type": "code",
   "execution_count": null,
   "id": "0b1de1d9-7ea1-4c5e-bb99-192fdc35a356",
   "metadata": {},
   "outputs": [],
   "source": []
  }
 ],
 "metadata": {
  "kernelspec": {
   "display_name": "Python 3 (ipykernel)",
   "language": "python",
   "name": "python3"
  },
  "language_info": {
   "codemirror_mode": {
    "name": "ipython",
    "version": 3
   },
   "file_extension": ".py",
   "mimetype": "text/x-python",
   "name": "python",
   "nbconvert_exporter": "python",
   "pygments_lexer": "ipython3",
   "version": "3.12.4"
  }
 },
 "nbformat": 4,
 "nbformat_minor": 5
}
