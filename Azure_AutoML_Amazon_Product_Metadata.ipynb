{
 "cells": [
  {
   "cell_type": "markdown",
   "id": "bfd746a8",
   "metadata": {},
   "source": [
    "# Azure AutoML Project: Amazon Product Metadata Analysis\n",
    "**Author:** [Your Name]  \n",
    "**Date:** 2025-05-11\n",
    "\n",
    "This notebook demonstrates Azure AutoML steps to train and evaluate a model predicting product ratings based on metadata from the Amazon dataset."
   ]
  },
  {
   "cell_type": "code",
   "execution_count": null,
   "id": "312fe00b-d156-409e-bf6d-9871cf05152c",
   "metadata": {},
   "outputs": [],
   "source": []
  },
  {
   "cell_type": "code",
   "execution_count": 1,
   "id": "63da3c32",
   "metadata": {},
   "outputs": [
    {
     "ename": "ModuleNotFoundError",
     "evalue": "No module named 'azureml'",
     "output_type": "error",
     "traceback": [
      "\u001b[1;31m---------------------------------------------------------------------------\u001b[0m",
      "\u001b[1;31mModuleNotFoundError\u001b[0m                       Traceback (most recent call last)",
      "Cell \u001b[1;32mIn[1], line 3\u001b[0m\n\u001b[0;32m      1\u001b[0m \u001b[38;5;28;01mimport\u001b[39;00m \u001b[38;5;21;01mpandas\u001b[39;00m \u001b[38;5;28;01mas\u001b[39;00m \u001b[38;5;21;01mpd\u001b[39;00m\n\u001b[0;32m      2\u001b[0m \u001b[38;5;28;01mimport\u001b[39;00m \u001b[38;5;21;01mmatplotlib\u001b[39;00m\u001b[38;5;21;01m.\u001b[39;00m\u001b[38;5;21;01mpyplot\u001b[39;00m \u001b[38;5;28;01mas\u001b[39;00m \u001b[38;5;21;01mplt\u001b[39;00m\n\u001b[1;32m----> 3\u001b[0m \u001b[38;5;28;01mfrom\u001b[39;00m \u001b[38;5;21;01mazureml\u001b[39;00m\u001b[38;5;21;01m.\u001b[39;00m\u001b[38;5;21;01mcore\u001b[39;00m \u001b[38;5;28;01mimport\u001b[39;00m Workspace, Dataset, Experiment\n\u001b[0;32m      4\u001b[0m \u001b[38;5;28;01mfrom\u001b[39;00m \u001b[38;5;21;01mazureml\u001b[39;00m\u001b[38;5;21;01m.\u001b[39;00m\u001b[38;5;21;01mtrain\u001b[39;00m\u001b[38;5;21;01m.\u001b[39;00m\u001b[38;5;21;01mautoml\u001b[39;00m \u001b[38;5;28;01mimport\u001b[39;00m AutoMLConfig\n\u001b[0;32m      5\u001b[0m \u001b[38;5;28;01mfrom\u001b[39;00m \u001b[38;5;21;01mazureml\u001b[39;00m\u001b[38;5;21;01m.\u001b[39;00m\u001b[38;5;21;01mcore\u001b[39;00m\u001b[38;5;21;01m.\u001b[39;00m\u001b[38;5;21;01mcompute\u001b[39;00m \u001b[38;5;28;01mimport\u001b[39;00m ComputeTarget\n",
      "\u001b[1;31mModuleNotFoundError\u001b[0m: No module named 'azureml'"
     ]
    }
   ],
   "source": [
    "import pandas as pd\n",
    "import matplotlib.pyplot as plt\n",
    "from azureml.core import Workspace, Dataset, Experiment\n",
    "from azureml.train.automl import AutoMLConfig\n",
    "from azureml.core.compute import ComputeTarget\n",
    "from azureml.widgets import RunDetails"
   ]
  },
  {
   "cell_type": "code",
   "execution_count": null,
   "id": "328ad8df",
   "metadata": {},
   "outputs": [],
   "source": [
    "# Connect to Azure ML workspace\n",
    "ws = Workspace.from_config()"
   ]
  },
  {
   "cell_type": "code",
   "execution_count": null,
   "id": "81a6d037",
   "metadata": {},
   "outputs": [],
   "source": [
    "# Load dataset from local file or datastore (already uploaded via Data Factory)\n",
    "# Example: AmazonProducts.csv uploaded to datastore and registered as Dataset\n",
    "dataset = Dataset.get_by_name(ws, name='AmazonProducts')\n",
    "df = dataset.to_pandas_dataframe()\n",
    "df.head()"
   ]
  },
  {
   "cell_type": "code",
   "execution_count": null,
   "id": "bfab1444",
   "metadata": {},
   "outputs": [],
   "source": [
    "# Clean and prepare the data\n",
    "df = df.dropna(subset=['price', 'review_count', 'average_rating'])\n",
    "df['review_count'] = df['review_count'].astype(int)\n",
    "df['price'] = df['price'].astype(float)\n",
    "df = df[['price', 'review_count', 'average_rating']]\n",
    "df.describe()"
   ]
  },
  {
   "cell_type": "code",
   "execution_count": null,
   "id": "6794f5a6",
   "metadata": {},
   "outputs": [],
   "source": [
    "# Define AutoML configuration\n",
    "automl_config = AutoMLConfig(\n",
    "    task='regression',\n",
    "    primary_metric='r2_score',\n",
    "    training_data=dataset,\n",
    "    label_column_name='average_rating',\n",
    "    n_cross_validations=5,\n",
    "    enable_early_stopping=True,\n",
    "    experiment_timeout_minutes=30,\n",
    "    compute_target='cpu-cluster'\n",
    ")"
   ]
  },
  {
   "cell_type": "code",
   "execution_count": null,
   "id": "cdc8f845",
   "metadata": {},
   "outputs": [],
   "source": [
    "# Run AutoML experiment\n",
    "experiment = Experiment(ws, 'amazon-products-automl')\n",
    "run = experiment.submit(automl_config, show_output=True)"
   ]
  },
  {
   "cell_type": "code",
   "execution_count": null,
   "id": "473f6836",
   "metadata": {},
   "outputs": [],
   "source": [
    "# Show leaderboard\n",
    "best_run, fitted_model = run.get_output()\n",
    "print(fitted_model)\n",
    "RunDetails(run).show()"
   ]
  }
 ],
 "metadata": {
  "kernelspec": {
   "display_name": "Python 3 (ipykernel)",
   "language": "python",
   "name": "python3"
  },
  "language_info": {
   "codemirror_mode": {
    "name": "ipython",
    "version": 3
   },
   "file_extension": ".py",
   "mimetype": "text/x-python",
   "name": "python",
   "nbconvert_exporter": "python",
   "pygments_lexer": "ipython3",
   "version": "3.12.4"
  }
 },
 "nbformat": 4,
 "nbformat_minor": 5
}
