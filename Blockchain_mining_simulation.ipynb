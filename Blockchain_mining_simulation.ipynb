{
 "cells": [
  {
   "cell_type": "markdown",
   "id": "6ae74cd0",
   "metadata": {},
   "source": [
    "# Blockchain mining simulation exercise. "
   ]
  },
  {
   "cell_type": "markdown",
   "id": "30bf777f",
   "metadata": {},
   "source": [
    "This code includes the basic components of a blockchain, a mining function, and a simple mining simulation."
   ]
  },
  {
   "cell_type": "code",
   "execution_count": 1,
   "id": "ac74ec96",
   "metadata": {},
   "outputs": [],
   "source": [
    "import hashlib\n",
    "import time\n",
    "\n",
    "class Block:\n",
    "    def __init__(self, index, previous_hash, timestamp, data):\n",
    "        self.index = index\n",
    "        self.previous_hash = previous_hash\n",
    "        self.timestamp = timestamp\n",
    "        self.data = data\n",
    "        self.nonce = 0\n",
    "        self.hash = self.calculate_hash()\n",
    "\n",
    "    def calculate_hash(self):\n",
    "        data_str = \"\"\n",
    "        for item in self.data:\n",
    "            data_str += str(item)\n",
    "        return hashlib.sha256(\n",
    "            f\"{self.index}{self.previous_hash}{self.timestamp}{data_str}{self.nonce}\".encode()\n",
    "        ).hexdigest()\n",
    "\n",
    "class Blockchain:\n",
    "    def __init__(self):\n",
    "        self.chain = [self.create_genesis_block()]\n",
    "\n",
    "    def create_genesis_block(self):\n",
    "        return Block(0, \"0\", int(time.time()), [\"Genesis Block\"])\n",
    "\n",
    "    def add_block(self, data):\n",
    "        previous_block = self.chain[-1]\n",
    "        index = previous_block.index + 1\n",
    "        timestamp = int(time.time())\n",
    "        new_block = Block(index, previous_block.hash, timestamp, data)\n",
    "        self.mine_block(new_block)\n",
    "        self.chain.append(new_block)\n",
    "\n",
    "    def mine_block(self, block, difficulty=2):\n",
    "        prefix = \"0\" * difficulty\n",
    "        while block.hash[:difficulty] != prefix:\n",
    "            block.nonce += 1\n",
    "            block.hash = block.calculate_hash()\n",
    "        print(f\"Block mined: {block.hash}\")\n",
    "\n",
    "    def is_chain_valid(self):\n",
    "        for i in range(1, len(self.chain)):\n",
    "            current_block = self.chain[i]\n",
    "            previous_block = self.chain[i - 1]\n",
    "\n",
    "            if current_block.hash != current_block.calculate_hash():\n",
    "                return False\n",
    "\n",
    "            if current_block.previous_hash != previous_block.hash:\n",
    "                return False\n",
    "\n",
    "        return True\n",
    "\n",
    "    def display_chain(self):\n",
    "        for block in self.chain:\n",
    "            print(f\"Block #{block.index}\")\n",
    "            print(f\"Previous Hash: {block.previous_hash}\")\n",
    "            print(f\"Timestamp: {block.timestamp}\")\n",
    "            print(f\"Data: {block.data}\")\n",
    "            print(f\"Nonce: {block.nonce}\")\n",
    "            print(f\"Hash: {block.hash}\\n\")"
   ]
  },
  {
   "cell_type": "code",
   "execution_count": 2,
   "id": "d4796151",
   "metadata": {},
   "outputs": [
    {
     "name": "stdout",
     "output_type": "stream",
     "text": [
      "Block mined: 004f9aee1c8a463912fffbf0cbd7ea2989a7a08159d7be727f9e90e1fd1a6a77\n",
      "Block mined: 0000f64f679f3c2b867d6b7169500bb98701719cc9bdeb044728d18e79a64e58\n",
      "Block #0\n",
      "Previous Hash: 0\n",
      "Timestamp: 1695581905\n",
      "Data: ['Genesis Block']\n",
      "Nonce: 0\n",
      "Hash: c93408460d6486a625bef6371181b3caf900fe9f7acec77402729549d44c500b\n",
      "\n",
      "Block #1\n",
      "Previous Hash: c93408460d6486a625bef6371181b3caf900fe9f7acec77402729549d44c500b\n",
      "Timestamp: 1695581905\n",
      "Data: ['Transaction 1', 'Transaction 2']\n",
      "Nonce: 144\n",
      "Hash: 004f9aee1c8a463912fffbf0cbd7ea2989a7a08159d7be727f9e90e1fd1a6a77\n",
      "\n",
      "Block #2\n",
      "Previous Hash: 004f9aee1c8a463912fffbf0cbd7ea2989a7a08159d7be727f9e90e1fd1a6a77\n",
      "Timestamp: 1695581905\n",
      "Data: ['Transaction 3', 'Transaction 4']\n",
      "Nonce: 347\n",
      "Hash: 0000f64f679f3c2b867d6b7169500bb98701719cc9bdeb044728d18e79a64e58\n",
      "\n"
     ]
    }
   ],
   "source": [
    "# Create a blockchain and add blocks\n",
    "blockchain = Blockchain()\n",
    "blockchain.add_block([\"Transaction 1\", \"Transaction 2\"])\n",
    "blockchain.add_block([\"Transaction 3\", \"Transaction 4\"])\n",
    "\n",
    "# Display the blockchain\n",
    "blockchain.display_chain()"
   ]
  },
  {
   "cell_type": "code",
   "execution_count": 3,
   "id": "0837ece2",
   "metadata": {},
   "outputs": [
    {
     "name": "stdout",
     "output_type": "stream",
     "text": [
      "Blockchain is valid.\n"
     ]
    }
   ],
   "source": [
    "# Check if the blockchain is valid\n",
    "if blockchain.is_chain_valid():\n",
    "    print(\"Blockchain is valid.\")\n",
    "else:\n",
    "    print(\"Blockchain is not valid.\")"
   ]
  },
  {
   "cell_type": "code",
   "execution_count": null,
   "id": "b13c2d9c",
   "metadata": {},
   "outputs": [],
   "source": []
  }
 ],
 "metadata": {
  "kernelspec": {
   "display_name": "Python 3 (ipykernel)",
   "language": "python",
   "name": "python3"
  },
  "language_info": {
   "codemirror_mode": {
    "name": "ipython",
    "version": 3
   },
   "file_extension": ".py",
   "mimetype": "text/x-python",
   "name": "python",
   "nbconvert_exporter": "python",
   "pygments_lexer": "ipython3",
   "version": "3.11.4"
  }
 },
 "nbformat": 4,
 "nbformat_minor": 5
}
