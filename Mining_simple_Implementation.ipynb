{
 "cells": [
  {
   "cell_type": "markdown",
   "metadata": {},
   "source": [
    "# Blockchain Mining Simulation with Verbose Logging\n",
    "\n",
    "In this notebook, we simulate blockchain mining and display detailed internal workings during the mining process.\n",
    "\n",
    "**Steps Covered:**\n",
    "1. Define the Block structure.\n",
    "2. Implement a mining function with verbose logging.\n",
    "3. Create a Blockchain class.\n",
    "4. Simulate mining multiple blocks and display the chain.\n"
   ]
  },
  {
   "cell_type": "code",
   "execution_count": null,
   "metadata": {},
   "outputs": [],
   "source": [
    "# Importing necessary libraries\n",
    "import hashlib  # For hashing the block data using SHA-256\n",
    "import time     # To timestamp each block"
   ]
  },
  {
   "cell_type": "markdown",
   "metadata": {},
   "source": [
    "## Part 1: Block Structure\n",
    "\n",
    "In this cell, we define a `Block` class. Each block in our blockchain will contain:\n",
    "- **index:** Position of the block in the blockchain.\n",
    "- **timestamp:** Time when the block was created.\n",
    "- **data:** A list of transactions or data for the block.\n",
    "- **previous_hash:** The hash of the previous block in the chain.\n",
    "- **nonce:** A number that miners adjust during mining until a valid hash is found.\n",
    "- **hash:** The resulting SHA-256 hash of the block's contents.\n",
    "\n",
    "Let's define the `Block` class.\n"
   ]
  },
  {
   "cell_type": "code",
   "execution_count": null,
   "metadata": {},
   "outputs": [],
   "source": [
    "# Define the Block class with detailed inline comments\n",
    "class Block:\n",
    "    def __init__(self, index, previous_hash, data):\n",
    "        # Set the block's position in the chain\n",
    "        self.index = index\n",
    "        # Record the time when the block is created\n",
    "        self.timestamp = time.time()\n",
    "        # Store the transactions or data for the block\n",
    "        self.data = data\n",
    "        # Reference the previous block's hash for linking the blocks\n",
    "        self.previous_hash = previous_hash\n",
    "        # Initialize the nonce (number used once) which will be changed during mining\n",
    "        self.nonce = 0\n",
    "        # Compute the initial hash of the block\n",
    "        self.hash = self.compute_hash()\n",
    "\n",
    "    def compute_hash(self):\n",
    "        \"\"\"\n",
    "        Compute the SHA-256 hash of the block's contents.\n",
    "        Combines index, timestamp, data, previous hash, and nonce.\n",
    "        \"\"\"\n",
    "        block_content = f\"{self.index}{self.timestamp}{self.data}{self.previous_hash}{self.nonce}\"\n",
    "        return hashlib.sha256(block_content.encode()).hexdigest()\n"
   ]
  },
  {
   "cell_type": "markdown",
   "metadata": {},
   "source": [
    "## Part 2: Mining Function with Verbose Logging\n",
    "\n",
    "The `mine_block` function performs proof-of-work by adjusting the nonce until the block's hash starts with a target prefix (a set number of zeros). Here, we print detailed information for every iteration to show how the nonce and hash change.\n",
    "\n"
   ]
  },
  {
   "cell_type": "code",
   "execution_count": null,
   "metadata": {},
   "outputs": [],
   "source": [
    "def mine_block(block, difficulty=4, verbose=True):\n",
    "    \"\"\"\n",
    "    Mines a block by finding a nonce such that the block's hash starts with 'difficulty' zeros.\n",
    "    Prints detailed debug information on each iteration if verbose is True.\n",
    "    \"\"\"\n",
    "    prefix = '0' * difficulty\n",
    "    print(f\"\\nStarting mining for block {block.index} with target prefix: {prefix}\")\n",
    "    iteration = 0\n",
    "    while not block.hash.startswith(prefix):\n",
    "        block.nonce += 1\n",
    "        block.hash = block.compute_hash()\n",
    "        iteration += 1\n",
    "        if verbose:\n",
    "            print(f\"Iteration {iteration}: nonce = {block.nonce}, hash = {block.hash}\")\n",
    "    print(f\"Block {block.index} mined! Final nonce: {block.nonce}, hash: {block.hash}\\n\")\n",
    "    return block.nonce, block.hash\n"
   ]
  },
  {
   "cell_type": "markdown",
   "metadata": {},
   "source": [
    "## Part 3: Blockchain Implementation\n",
    "\n",
    "Here we implement the `Blockchain` class that will manage our chain of blocks. This class includes:\n",
    "\n",
    "- **create_genesis_block():** Creates the first block (genesis block) in the blockchain.\n",
    "- **add_block(data):** Adds a new block containing the provided data by mining it.\n",
    "- **is_chain_valid():** Checks the validity of the blockchain by verifying each block's hash and linkage.\n",
    "- **display_chain():** Prints out the details of each block in the blockchain.\n",
    "\n",
    "Let's define the `Blockchain` class.\n"
   ]
  },
  {
   "cell_type": "code",
   "execution_count": null,
   "metadata": {},
   "outputs": [],
   "source": [
    "class Blockchain:\n",
    "    def __init__(self):\n",
    "        self.chain = []\n",
    "        self.difficulty = 4  # Difficulty level for mining (number of leading zeros required)\n",
    "        self.create_genesis_block()\n",
    "\n",
    "    def create_genesis_block(self):\n",
    "        # Create the first block with default previous hash \"0\"\n",
    "        genesis_block = Block(0, \"0\", \"Genesis Block\")\n",
    "        mine_block(genesis_block, self.difficulty, verbose=True)\n",
    "        self.chain.append(genesis_block)\n",
    "\n",
    "    def add_block(self, data):\n",
    "        # Create a new block using the hash of the latest block in the chain\n",
    "        last_block = self.chain[-1]\n",
    "        new_block = Block(len(self.chain), last_block.hash, data)\n",
    "        mine_block(new_block, self.difficulty, verbose=True)\n",
    "        self.chain.append(new_block)\n",
    "\n",
    "    def is_chain_valid(self):\n",
    "        # Verify that each   is correct and that the chain is properly linked\n",
    "        for i in range(1, len(self.chain)):\n",
    "            current = self.chain[i]\n",
    "            previous = self.chain[i - 1]\n",
    "            if current.hash != current.compute_hash():\n",
    "                return False\n",
    "            if current.previous_hash != previous.hash:\n",
    "                return False\n",
    "        return True\n",
    "\n",
    "    def display_chain(self):\n",
    "        # Print detailed information for each block in the blockchain\n",
    "        for block in self.chain:\n",
    "            print(f\"Index: {block.index}\")\n",
    "            print(f\"Timestamp: {block.timestamp}\")\n",
    "            print(f\"Data: {block.data}\")\n",
    "            print(f\"Previous Hash: {block.previous_hash}\")\n",
    "            print(f\"Nonce: {block.nonce}\")\n",
    "            print(f\"Hash: {block.hash}\")\n",
    "            print(\"-\" * 50)\n"
   ]
  },
  {
   "cell_type": "markdown",
   "metadata": {},
   "source": [
    "## Part 4: Mining Simulation\n",
    "\n",
    "In this cell, we will:\n",
    "- Initialize our blockchain.\n",
    "- Add several blocks with sample transaction data.\n",
    "- Display the blockchain after adding each block.\n",
    "- Validate the integrity of the entire blockchain using the `is_chain_valid()` method.\n"
   ]
  },
  {
   "cell_type": "code",
   "execution_count": null,
   "metadata": {},
   "outputs": [],
   "source": [
    "# Initialize the blockchain (automatically creates the genesis block)\n",
    "blockchain = Blockchain()\n",
    "\n",
    "# Add new blocks with sample transaction data\n",
    "blockchain.add_block(\"Transaction A to B: $50\")\n",
    "blockchain.add_block(\"Transaction C to D: $20\")\n",
    "blockchain.add_block(\"Transaction E to F: $100\")\n",
    "\n",
    "# Display the entire blockchain with detailed block information\n",
    "blockchain.display_chain()\n",
    "\n",
    "# Validate the blockchain integrity and print the result\n",
    "print(\"Is blockchain valid?\", blockchain.is_chain_valid())"
   ]
  },
  {
   "cell_type": "markdown",
   "metadata": {},
   "source": [
    "OR"
   ]
  },
  {
   "cell_type": "code",
   "execution_count": null,
   "metadata": {},
   "outputs": [],
   "source": [
    "# Display the hash of all blocks in the blockchain\n",
    "print(\"Hashes of all blocks in the blockchain:\")\n",
    "for block in blockchain.chain:\n",
    "    print(f\"Block {block.index} hash: {block.hash}\")"
   ]
  },
  {
   "cell_type": "code",
   "execution_count": null,
   "metadata": {},
   "outputs": [],
   "source": [
    "def verify_chain_details(blockchain):\n",
    "    print(\"Starting blockchain verification...\\n\")\n",
    "    is_valid = True\n",
    "    # Start from block 1 because the genesis block doesn't have a previous block to verify\n",
    "    for i in range(1, len(blockchain.chain)):\n",
    "        current = blockchain.chain[i]\n",
    "        previous = blockchain.chain[i - 1]\n",
    "        print(f\"Verifying block {current.index}:\")\n",
    "        \n",
    "        # Step 1: Recompute the hash for the current block\n",
    "        computed_hash = current.compute_hash()\n",
    "        print(f\"  Stored hash:    {current.hash}\")\n",
    "        print(f\"  Computed hash:  {computed_hash}\")\n",
    "        \n",
    "        if current.hash != computed_hash:\n",
    "            print(\"  [Error] Block hash does not match computed hash!\")\n",
    "            is_valid = False\n",
    "        else:\n",
    "            print(\"  [OK] Block hash is valid.\")\n",
    "        \n",
    "        # Step 2: Verify the linkage by checking the previous hash\n",
    "        print(f\"  Previous hash in current block: {current.previous_hash}\")\n",
    "        print(f\"  Actual previous block's hash:    {previous.hash}\")\n",
    "        if current.previous_hash != previous.hash:\n",
    "            print(\"  [Error] Previous hash does not match!\")\n",
    "            is_valid = False\n",
    "        else:\n",
    "            print(\"  [OK] Previous hash is valid.\")\n",
    "        \n",
    "        print(\"-\" * 50)\n",
    "    \n",
    "    if is_valid:\n",
    "        print(\"Blockchain verification complete: The blockchain is VALID!\")\n",
    "    else:\n",
    "        print(\"Blockchain verification complete: The blockchain is INVALID!\")\n",
    "    \n",
    "    return is_valid\n",
    "\n",
    "# Now call the detailed verification function on the blockchain\n",
    "verify_chain_details(blockchain)\n",
    "\n"
   ]
  },
  {
   "cell_type": "markdown",
   "metadata": {},
   "source": [
    "## Part 5: Testing and Reflection\n",
    "\n",
    "We have:\n",
    "- Added multiple blocks to the blockchain.\n",
    "- Displayed the complete blockchain with each block's details.\n",
    "- Validated the blockchain to ensure integrity.\n",
    "\n",
    "**Key Takeaways:**\n",
    "- **Mining:** Adjusting the nonce until a block's hash meets the proof-of-work requirement.\n",
    "- **Block Linkage:** Each block references the previous block's hash, forming an immutable chain.\n",
    "- **Blockchain Integrity:** The `is_chain_valid()` method ensures that no block has been tampered with.\n",
    "\n",
    "Feel free to experiment further by:\n",
    "- Changing the mining difficulty.\n",
    "- Adding more blocks.\n",
    "- Modifying the transaction data.\n"
   ]
  }
 ],
 "metadata": {
  "kernelspec": {
   "display_name": "Python 3 (ipykernel)",
   "language": "python",
   "name": "python3"
  },
  "language_info": {
   "codemirror_mode": {
    "name": "ipython",
    "version": 3
   },
   "file_extension": ".py",
   "mimetype": "text/x-python",
   "name": "python",
   "nbconvert_exporter": "python",
   "pygments_lexer": "ipython3",
   "version": "3.12.4"
  }
 },
 "nbformat": 4,
 "nbformat_minor": 4
}
