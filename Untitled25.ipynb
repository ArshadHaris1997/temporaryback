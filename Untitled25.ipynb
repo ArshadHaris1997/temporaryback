{
 "cells": [
  {
   "cell_type": "code",
   "execution_count": 1,
   "id": "10ab211d-3d51-4611-a834-e9f9b70edc94",
   "metadata": {},
   "outputs": [
    {
     "ename": "ModuleNotFoundError",
     "evalue": "No module named 'selenium'",
     "output_type": "error",
     "traceback": [
      "\u001b[1;31m---------------------------------------------------------------------------\u001b[0m",
      "\u001b[1;31mModuleNotFoundError\u001b[0m                       Traceback (most recent call last)",
      "Cell \u001b[1;32mIn[1], line 1\u001b[0m\n\u001b[1;32m----> 1\u001b[0m \u001b[38;5;28;01mfrom\u001b[39;00m \u001b[38;5;21;01mselenium\u001b[39;00m \u001b[38;5;28;01mimport\u001b[39;00m webdriver\n\u001b[0;32m      2\u001b[0m \u001b[38;5;28;01mfrom\u001b[39;00m \u001b[38;5;21;01mselenium\u001b[39;00m\u001b[38;5;21;01m.\u001b[39;00m\u001b[38;5;21;01mwebdriver\u001b[39;00m\u001b[38;5;21;01m.\u001b[39;00m\u001b[38;5;21;01mchrome\u001b[39;00m\u001b[38;5;21;01m.\u001b[39;00m\u001b[38;5;21;01mservice\u001b[39;00m \u001b[38;5;28;01mimport\u001b[39;00m Service\n\u001b[0;32m      3\u001b[0m \u001b[38;5;28;01mfrom\u001b[39;00m \u001b[38;5;21;01mselenium\u001b[39;00m\u001b[38;5;21;01m.\u001b[39;00m\u001b[38;5;21;01mwebdriver\u001b[39;00m\u001b[38;5;21;01m.\u001b[39;00m\u001b[38;5;21;01mcommon\u001b[39;00m\u001b[38;5;21;01m.\u001b[39;00m\u001b[38;5;21;01mby\u001b[39;00m \u001b[38;5;28;01mimport\u001b[39;00m By\n",
      "\u001b[1;31mModuleNotFoundError\u001b[0m: No module named 'selenium'"
     ]
    }
   ],
   "source": [
    "from selenium import webdriver\n",
    "from selenium.webdriver.chrome.service import Service\n",
    "from selenium.webdriver.common.by import By\n",
    "import pandas as pd\n",
    "import time\n",
    "\n",
    "# Set up the Chrome WebDriver\n",
    "service = Service('path/to/chromedriver')  # Update with your path to chromedriver\n",
    "driver = webdriver.Chrome(service=service)\n",
    "\n",
    "# URL of the StatsGuru batting page\n",
    "url = 'https://stats.espncricinfo.com/ci/engine/stats/index.html?class=1;filter=advanced;orderby=innings;size=200;spanmax1=07+Aug+2020;spanmin1=07+Aug+2015;spanval1=span;template=results;type=batting;wrappertype=print'\n",
    "\n",
    "# Open the URL\n",
    "driver.get(url)\n",
    "\n",
    "# Wait for the page to load\n",
    "time.sleep(5)  # Adjust the sleep time as necessary\n",
    "\n",
    "# Find the table containing the batting statistics\n",
    "table = driver.find_element(By.CLASS_NAME, 'engineTable')\n",
    "\n",
    "# Extract headers\n",
    "headers = [header.text for header in table.find_elements(By.TAG_NAME, 'th')]\n",
    "\n",
    "# Extract rows\n",
    "rows = []\n",
    "for row in table.find_elements(By.TAG_NAME, 'tr')[1:]:  # Skip the header row\n",
    "    cells = row.find_elements(By.TAG_NAME, 'td')\n",
    "    if cells:\n",
    "        rows.append([cell.text.strip() for cell in cells])\n",
    "\n",
    "# Create a DataFrame\n",
    "batting_stats_df = pd.DataFrame(rows, columns=headers)\n",
    "\n",
    "# Display the DataFrame\n",
    "print(batting_stats_df.head())\n",
    "\n",
    "# Close the driver\n",
    "driver.quit()"
   ]
  },
  {
   "cell_type": "code",
   "execution_count": null,
   "id": "649dc306-2a89-4a7d-be09-e48ad7ed4cb1",
   "metadata": {},
   "outputs": [],
   "source": []
  }
 ],
 "metadata": {
  "kernelspec": {
   "display_name": "Python 3 (ipykernel)",
   "language": "python",
   "name": "python3"
  },
  "language_info": {
   "codemirror_mode": {
    "name": "ipython",
    "version": 3
   },
   "file_extension": ".py",
   "mimetype": "text/x-python",
   "name": "python",
   "nbconvert_exporter": "python",
   "pygments_lexer": "ipython3",
   "version": "3.12.4"
  }
 },
 "nbformat": 4,
 "nbformat_minor": 5
}
