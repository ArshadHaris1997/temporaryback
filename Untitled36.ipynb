{
 "cells": [
  {
   "cell_type": "code",
   "execution_count": 1,
   "id": "b8b9dd4b-9a61-42d1-bdf9-d606fb15e7fe",
   "metadata": {},
   "outputs": [
    {
     "name": "stdout",
     "output_type": "stream",
     "text": [
      "✅ Cleaned dataset saved as 'postings_cleaned_for_automl.csv'\n"
     ]
    }
   ],
   "source": [
    "# Step 1: Import required libraries\n",
    "import pandas as pd\n",
    "import numpy as np\n",
    "\n",
    "# Step 2: Load the dataset\n",
    "df = pd.read_csv(\"postings.csv\")\n",
    "\n",
    "# Step 3: Clean Missing Data\n",
    "# Drop rows with excessive missing values (less than 5 non-NA values)\n",
    "df.dropna(thresh=5, inplace=True)\n",
    "\n",
    "# Fill missing values in salary-related columns with median\n",
    "for col in ['normalized_salary', 'max_salary', 'min_salary', 'med_salary']:\n",
    "    if col in df.columns:\n",
    "        df[col] = df[col].fillna(df[col].median())\n",
    "\n",
    "# Drop rows with missing 'title' or 'description'\n",
    "df.dropna(subset=['title', 'description'], inplace=True)\n",
    "\n",
    "# Step 4: Remove Duplicates\n",
    "df.drop_duplicates(inplace=True)\n",
    "\n",
    "# Step 5: Edit Metadata (Rename & Convert Types)\n",
    "# Convert listed_time to datetime\n",
    "if 'listed_time' in df.columns:\n",
    "    df['listed_time'] = pd.to_datetime(df['listed_time'], errors='coerce', unit='ms')\n",
    "\n",
    "# Rename columns for clarity\n",
    "df.rename(columns={\n",
    "    'normalized_salary': 'salary_usd',\n",
    "    'description': 'job_description',\n",
    "    'title': 'job_title'\n",
    "}, inplace=True)\n",
    "\n",
    "# Step 6: Apply Transformations\n",
    "\n",
    "# Create a new column for job description length\n",
    "df['desc_length'] = df['job_description'].apply(lambda x: len(str(x)))\n",
    "\n",
    "# Create salary buckets\n",
    "def salary_bucket(salary):\n",
    "    if pd.isna(salary):\n",
    "        return 'Unknown'\n",
    "    elif salary < 40000:\n",
    "        return 'Low'\n",
    "    elif 40000 <= salary < 80000:\n",
    "        return 'Medium'\n",
    "    else:\n",
    "        return 'High'\n",
    "\n",
    "df['salary_bucket'] = df['salary_usd'].apply(salary_bucket)\n",
    "\n",
    "# Step 7: Save Cleaned Dataset for AutoML\n",
    "df.to_csv(\"postings_cleaned_for_automl.csv\", index=False)\n",
    "print(\"✅ Cleaned dataset saved as 'postings_cleaned_for_automl.csv'\")\n"
   ]
  },
  {
   "cell_type": "code",
   "execution_count": null,
   "id": "52d71ed2-0988-4abf-b17f-6c90194e6ee9",
   "metadata": {},
   "outputs": [],
   "source": []
  }
 ],
 "metadata": {
  "kernelspec": {
   "display_name": "Python 3 (ipykernel)",
   "language": "python",
   "name": "python3"
  },
  "language_info": {
   "codemirror_mode": {
    "name": "ipython",
    "version": 3
   },
   "file_extension": ".py",
   "mimetype": "text/x-python",
   "name": "python",
   "nbconvert_exporter": "python",
   "pygments_lexer": "ipython3",
   "version": "3.12.4"
  }
 },
 "nbformat": 4,
 "nbformat_minor": 5
}
