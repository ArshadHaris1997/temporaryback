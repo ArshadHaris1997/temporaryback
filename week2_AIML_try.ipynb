{
 "cells": [
  {
   "cell_type": "code",
   "execution_count": 1,
   "id": "3bb404e2-05da-4318-93c2-d46851e56ff7",
   "metadata": {},
   "outputs": [
    {
     "name": "stdout",
     "output_type": "stream",
     "text": [
      "Hello world!\n"
     ]
    }
   ],
   "source": [
    "print('Hello world!')"
   ]
  },
  {
   "cell_type": "code",
   "execution_count": 5,
   "id": "aa8fdcdf-f2c6-45f4-8602-e298906b7815",
   "metadata": {},
   "outputs": [
    {
     "name": "stdout",
     "output_type": "stream",
     "text": [
      "Name: victor\n",
      "Age in 5 years 31\n",
      "Hellovictor\n"
     ]
    }
   ],
   "source": [
    "age=26\n",
    "height=5.9\n",
    "name='victor'\n",
    "is_student=True\n",
    "\n",
    "print('Name:',name)\n",
    "\n",
    "result=age+5\n",
    "print('Age in 5 years',result)\n",
    "\n",
    "greeting='Hello'+name\n",
    "print(greeting)"
   ]
  },
  {
   "cell_type": "code",
   "execution_count": 7,
   "id": "823315c6-1644-47e0-bf8d-d68382458349",
   "metadata": {},
   "outputs": [
    {
     "name": "stdout",
     "output_type": "stream",
     "text": [
      "1\n",
      "is odd\n",
      "2\n",
      "is even\n",
      "3\n",
      "is odd\n",
      "4\n",
      "is even\n",
      "5\n",
      "is odd\n",
      "6\n",
      "is even\n",
      "7\n",
      "is odd\n",
      "All done. Hooray all working here\n"
     ]
    }
   ],
   "source": [
    "listOfNumbers = [1, 2, 3, 4, 5, 6,7]\n",
    "\n",
    "for number in listOfNumbers:\n",
    "    print(number),\n",
    "    if (number % 2 == 0):\n",
    "        print(\"is even\")\n",
    "    else:\n",
    "        print(\"is odd\")\n",
    "        \n",
    "print (\"All done. Hooray all working here\")"
   ]
  },
  {
   "cell_type": "code",
   "execution_count": null,
   "id": "8dae1dbd-f677-485d-985e-e2ed8d55c42d",
   "metadata": {},
   "outputs": [],
   "source": []
  }
 ],
 "metadata": {
  "kernelspec": {
   "display_name": "Python 3 (ipykernel)",
   "language": "python",
   "name": "python3"
  },
  "language_info": {
   "codemirror_mode": {
    "name": "ipython",
    "version": 3
   },
   "file_extension": ".py",
   "mimetype": "text/x-python",
   "name": "python",
   "nbconvert_exporter": "python",
   "pygments_lexer": "ipython3",
   "version": "3.12.4"
  }
 },
 "nbformat": 4,
 "nbformat_minor": 5
}
