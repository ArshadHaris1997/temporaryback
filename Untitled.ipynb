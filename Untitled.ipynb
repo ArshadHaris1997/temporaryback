{
 "cells": [
  {
   "cell_type": "code",
   "execution_count": 1,
   "id": "323810e2-038f-4983-903e-8e9022092385",
   "metadata": {},
   "outputs": [
    {
     "name": "stdout",
     "output_type": "stream",
     "text": [
      "Hello world\n"
     ]
    }
   ],
   "source": [
    "print(\"Hello world\")"
   ]
  },
  {
   "cell_type": "code",
   "execution_count": 2,
   "id": "8ce0be60-d07c-4a7b-a3e6-89812bc039d4",
   "metadata": {},
   "outputs": [],
   "source": [
    "import pandas as pd\n",
    "import numpy as np"
   ]
  },
  {
   "cell_type": "code",
   "execution_count": 3,
   "id": "3a476a38-6582-4ebd-b558-883b328ccb11",
   "metadata": {},
   "outputs": [
    {
     "name": "stdout",
     "output_type": "stream",
     "text": [
      "Hello world\n"
     ]
    }
   ],
   "source": [
    "print('Hello world')"
   ]
  },
  {
   "cell_type": "code",
   "execution_count": 4,
   "id": "0fbec307-299e-43f6-be38-f4e87b36dc74",
   "metadata": {},
   "outputs": [
    {
     "name": "stdout",
     "output_type": "stream",
     "text": [
      "Python is awesome\n"
     ]
    }
   ],
   "source": [
    "print('Python is awesome')"
   ]
  },
  {
   "cell_type": "code",
   "execution_count": 5,
   "id": "1518ca17-af53-4ca2-9325-d8b65c7b993a",
   "metadata": {},
   "outputs": [
    {
     "name": "stdout",
     "output_type": "stream",
     "text": [
      "Hello world\n",
      "Python is awesome\n"
     ]
    }
   ],
   "source": [
    "print('Hello world')\n",
    "print('Python is awesome')"
   ]
  },
  {
   "cell_type": "code",
   "execution_count": 6,
   "id": "15166281-c71b-4959-a477-a24bc4bd110a",
   "metadata": {},
   "outputs": [
    {
     "name": "stdout",
     "output_type": "stream",
     "text": [
      "Hello worldPython is awesome\n"
     ]
    }
   ],
   "source": [
    "print('Hello world',end=\"\")\n",
    "print('Python is awesome')"
   ]
  },
  {
   "cell_type": "code",
   "execution_count": 7,
   "id": "1d2fc4a9-8970-48e2-b33f-34884d5d3101",
   "metadata": {},
   "outputs": [
    {
     "name": "stdout",
     "output_type": "stream",
     "text": [
      "Hello world\n",
      "Python is awesome\n"
     ]
    }
   ],
   "source": [
    "print('Hello world',end=\"\\n\")\n",
    "print('Python is awesome')"
   ]
  },
  {
   "cell_type": "code",
   "execution_count": 8,
   "id": "26535be5-16ba-4e34-871a-a4e9af28fd14",
   "metadata": {},
   "outputs": [
    {
     "name": "stdout",
     "output_type": "stream",
     "text": [
      "7\n"
     ]
    }
   ],
   "source": [
    "print(2+5)"
   ]
  },
  {
   "cell_type": "code",
   "execution_count": 10,
   "id": "ec929801-fdfb-4272-8424-c3191ba18ec8",
   "metadata": {},
   "outputs": [
    {
     "name": "stdout",
     "output_type": "stream",
     "text": [
      "2+3"
     ]
    }
   ],
   "source": [
    "print(\"2+3\",end=\"\")"
   ]
  },
  {
   "cell_type": "code",
   "execution_count": 11,
   "id": "f869995e-ef6f-48b6-b5e5-0a339a204031",
   "metadata": {},
   "outputs": [
    {
     "name": "stdout",
     "output_type": "stream",
     "text": [
      "2+3\n"
     ]
    }
   ],
   "source": [
    "print(\"2+3\",end=\"\\n\")"
   ]
  },
  {
   "cell_type": "code",
   "execution_count": 13,
   "id": "10cb81a6-e923-4724-afc5-38ede398a95e",
   "metadata": {},
   "outputs": [
    {
     "name": "stdout",
     "output_type": "stream",
     "text": [
      "2+35\n"
     ]
    }
   ],
   "source": [
    "print(\"2+3\",end=\"\")\n",
    "print(2+3)"
   ]
  },
  {
   "cell_type": "code",
   "execution_count": 14,
   "id": "21dc2b1f-1bd0-4073-b517-24a83b68412e",
   "metadata": {},
   "outputs": [
    {
     "name": "stdout",
     "output_type": "stream",
     "text": [
      "2+3=\n"
     ]
    }
   ],
   "source": [
    "print(\"2+3\",end=\"=\\n\")"
   ]
  },
  {
   "cell_type": "code",
   "execution_count": 15,
   "id": "9a278dc8-a823-40d3-94e4-ca1b339d8453",
   "metadata": {},
   "outputs": [
    {
     "name": "stdout",
     "output_type": "stream",
     "text": [
      "2+3=\n",
      "5\n"
     ]
    }
   ],
   "source": [
    "print(\"2+3\",end=\"=\\n\")\n",
    "print(2+3)"
   ]
  },
  {
   "cell_type": "code",
   "execution_count": 16,
   "id": "18036c4b-a36f-4812-b624-cc4d577a11a5",
   "metadata": {},
   "outputs": [
    {
     "name": "stdout",
     "output_type": "stream",
     "text": [
      "2+3=5\n"
     ]
    }
   ],
   "source": [
    "print(\"2+3\",end=\"=\")\n",
    "print(2+3)"
   ]
  },
  {
   "cell_type": "code",
   "execution_count": 17,
   "id": "3c20339a-7863-4b49-a509-a5f8f3a73764",
   "metadata": {},
   "outputs": [
    {
     "name": "stdout",
     "output_type": "stream",
     "text": [
      "HiHi"
     ]
    },
    {
     "ename": "NameError",
     "evalue": "name 'Hi' is not defined",
     "output_type": "error",
     "traceback": [
      "\u001b[1;31m---------------------------------------------------------------------------\u001b[0m",
      "\u001b[1;31mNameError\u001b[0m                                 Traceback (most recent call last)",
      "Cell \u001b[1;32mIn[17], line 2\u001b[0m\n\u001b[0;32m      1\u001b[0m \u001b[38;5;28mprint\u001b[39m(\u001b[38;5;124m\"\u001b[39m\u001b[38;5;124mHi\u001b[39m\u001b[38;5;124m\"\u001b[39m,\u001b[38;5;124m\"\u001b[39m\u001b[38;5;124mHi\u001b[39m\u001b[38;5;124m\"\u001b[39m,sep\u001b[38;5;241m=\u001b[39m\u001b[38;5;124m\"\u001b[39m\u001b[38;5;124m\"\u001b[39m,end\u001b[38;5;241m=\u001b[39m\u001b[38;5;124m\"\u001b[39m\u001b[38;5;124m\"\u001b[39m)\n\u001b[1;32m----> 2\u001b[0m \u001b[38;5;28mprint\u001b[39m(Hi)\n",
      "\u001b[1;31mNameError\u001b[0m: name 'Hi' is not defined"
     ]
    }
   ],
   "source": [
    "print(\"Hi\",\"Hi\",sep=\"\",end=\"\")\n",
    "print(Hi)"
   ]
  },
  {
   "cell_type": "code",
   "execution_count": 18,
   "id": "08144499-fdaf-4737-a494-d49bb13de6c9",
   "metadata": {},
   "outputs": [
    {
     "name": "stdout",
     "output_type": "stream",
     "text": [
      "HiHiHi\n"
     ]
    }
   ],
   "source": [
    "print(\"Hi\",\"Hi\",sep=\"\",end=\"\")\n",
    "print(\"Hi\")"
   ]
  },
  {
   "cell_type": "code",
   "execution_count": 20,
   "id": "88cd6ac3-01b7-424a-afac-eb95bc9bbb8c",
   "metadata": {},
   "outputs": [
    {
     "name": "stdout",
     "output_type": "stream",
     "text": [
      "Hi...Hi...Hi\n"
     ]
    }
   ],
   "source": [
    "print(\"Hi\",\"Hi\",sep=\"...\",end=\"...\")\n",
    "print(\"Hi\")"
   ]
  },
  {
   "cell_type": "code",
   "execution_count": 21,
   "id": "a3bf490e-5241-4f0b-94a9-5b6f1c3e6de9",
   "metadata": {},
   "outputs": [
    {
     "name": "stdout",
     "output_type": "stream",
     "text": [
      "HiHiHi...\n"
     ]
    }
   ],
   "source": [
    "print(\"Hi\",\"Hi\",sep=\"\",end=\"\")\n",
    "print(\"Hi...\")"
   ]
  },
  {
   "cell_type": "code",
   "execution_count": 22,
   "id": "6122ed0f-4ecd-4515-9137-c620aed7543b",
   "metadata": {},
   "outputs": [
    {
     "name": "stdout",
     "output_type": "stream",
     "text": [
      "Hi...Hi...Hi...\n"
     ]
    }
   ],
   "source": [
    "print(\"Hi\",\"Hi\",sep=\"...\",end=\"...\")\n",
    "print(\"Hi...\")"
   ]
  },
  {
   "cell_type": "code",
   "execution_count": 23,
   "id": "fb03c5d7-8b8a-4969-bd59-f5796bf8cca4",
   "metadata": {},
   "outputs": [
    {
     "name": "stdout",
     "output_type": "stream",
     "text": [
      "It's Hero Time!\n",
      "Ben 10\n"
     ]
    }
   ],
   "source": [
    "print(\"It's Hero Time!\\nBen 10\")"
   ]
  },
  {
   "cell_type": "code",
   "execution_count": 24,
   "id": "bec9a76f-2188-4b8e-8651-092407ac955d",
   "metadata": {},
   "outputs": [
    {
     "name": "stdout",
     "output_type": "stream",
     "text": [
      "It's Hero Time!\n",
      "\t\t\t\tBen 10\n"
     ]
    }
   ],
   "source": [
    "print(\"It's Hero Time!\\n\\t\\t\\t\\tBen 10\")"
   ]
  },
  {
   "cell_type": "code",
   "execution_count": 25,
   "id": "81f5d6e9-c599-4f35-8f52-7ea693a3a797",
   "metadata": {},
   "outputs": [
    {
     "name": "stdout",
     "output_type": "stream",
     "text": [
      "It's Hero Time!\n",
      "\t\t\tBen 10\n"
     ]
    }
   ],
   "source": [
    "print(\"It's Hero Time!\\n\\t\\t\\tBen 10\")"
   ]
  },
  {
   "cell_type": "code",
   "execution_count": 26,
   "id": "958188d1-fcb0-4b76-865b-d282de9a427b",
   "metadata": {},
   "outputs": [
    {
     "name": "stdout",
     "output_type": "stream",
     "text": [
      "'It's Hero Time!'\n",
      "\t\t\tBen 10\n"
     ]
    }
   ],
   "source": [
    "print(\"'It's Hero Time!\\'\\n\\t\\t\\tBen 10\")"
   ]
  },
  {
   "cell_type": "code",
   "execution_count": 27,
   "id": "e8af3e57-28d7-431d-b595-3dfa85b30d8a",
   "metadata": {},
   "outputs": [
    {
     "name": "stdout",
     "output_type": "stream",
     "text": [
      "'It's Hero Time!'\n",
      "\t\t\t-Ben 10\n"
     ]
    }
   ],
   "source": [
    "print(\"'It's Hero Time!\\'\\n\\t\\t\\t-Ben 10\")"
   ]
  },
  {
   "cell_type": "code",
   "execution_count": 28,
   "id": "c0453be0-5acc-441c-98db-10f7099abb7b",
   "metadata": {},
   "outputs": [
    {
     "name": "stdout",
     "output_type": "stream",
     "text": [
      "'It's Hero Time!'\n",
      "\t\t\t- Ben 10\n"
     ]
    }
   ],
   "source": [
    "print(\"'It's Hero Time!\\'\\n\\t\\t\\t- Ben 10\")"
   ]
  },
  {
   "cell_type": "code",
   "execution_count": 30,
   "id": "730e23c0-56d1-4e43-bbc8-a04905b8f86c",
   "metadata": {},
   "outputs": [
    {
     "name": "stdout",
     "output_type": "stream",
     "text": [
      "1Hi\n"
     ]
    }
   ],
   "source": [
    "print('1Hi')"
   ]
  },
  {
   "cell_type": "code",
   "execution_count": 31,
   "id": "8febb885-5e2c-4ec6-88e2-5f2cb5091149",
   "metadata": {},
   "outputs": [
    {
     "name": "stdout",
     "output_type": "stream",
     "text": [
      "Hi\n"
     ]
    }
   ],
   "source": [
    "print('Hi')"
   ]
  },
  {
   "cell_type": "code",
   "execution_count": 32,
   "id": "c88247e0-10bf-4cf6-be92-47aa51ae55b3",
   "metadata": {},
   "outputs": [
    {
     "name": "stdout",
     "output_type": "stream",
     "text": [
      "Hello world\n"
     ]
    }
   ],
   "source": [
    "print(\"Hello world\")"
   ]
  },
  {
   "cell_type": "code",
   "execution_count": 33,
   "id": "c3a148f0-a4ed-4eb2-a257-46fcb220f469",
   "metadata": {},
   "outputs": [
    {
     "name": "stdout",
     "output_type": "stream",
     "text": [
      "Python is Awesome\n"
     ]
    }
   ],
   "source": [
    "print('Python is Awesome')"
   ]
  },
  {
   "cell_type": "code",
   "execution_count": 34,
   "id": "4574f63d-250c-4d22-9372-a5510d60038f",
   "metadata": {},
   "outputs": [
    {
     "name": "stdout",
     "output_type": "stream",
     "text": [
      "Hello world!\n",
      "Python is Awesome\n"
     ]
    }
   ],
   "source": [
    "print('Hello world!')\n",
    "print('Python is Awesome')"
   ]
  },
  {
   "cell_type": "code",
   "execution_count": 35,
   "id": "3df5877b-7a5a-4a55-b170-42babeb09056",
   "metadata": {},
   "outputs": [
    {
     "ename": "SyntaxError",
     "evalue": "expected argument value expression (1311372883.py, line 1)",
     "output_type": "error",
     "traceback": [
      "\u001b[1;36m  Cell \u001b[1;32mIn[35], line 1\u001b[1;36m\u001b[0m\n\u001b[1;33m    print('Hello world!',end=)\u001b[0m\n\u001b[1;37m                         ^\u001b[0m\n\u001b[1;31mSyntaxError\u001b[0m\u001b[1;31m:\u001b[0m expected argument value expression\n"
     ]
    }
   ],
   "source": [
    "print('Hello world!',end=)\n",
    "print('Python is Awesome')"
   ]
  },
  {
   "cell_type": "code",
   "execution_count": 36,
   "id": "92d41118-9443-47f9-9101-3cbb563bdfb3",
   "metadata": {},
   "outputs": [
    {
     "ename": "SyntaxError",
     "evalue": "expected argument value expression (1311372883.py, line 1)",
     "output_type": "error",
     "traceback": [
      "\u001b[1;36m  Cell \u001b[1;32mIn[36], line 1\u001b[1;36m\u001b[0m\n\u001b[1;33m    print('Hello world!',end=)\u001b[0m\n\u001b[1;37m                         ^\u001b[0m\n\u001b[1;31mSyntaxError\u001b[0m\u001b[1;31m:\u001b[0m expected argument value expression\n"
     ]
    }
   ],
   "source": [
    "print('Hello world!',end=)\n",
    "print('Python is Awesome')"
   ]
  },
  {
   "cell_type": "code",
   "execution_count": 37,
   "id": "3c20938a-17eb-40b8-aca8-93d36977c2c4",
   "metadata": {},
   "outputs": [
    {
     "name": "stdout",
     "output_type": "stream",
     "text": [
      "Hello world!Python is Awesome\n"
     ]
    }
   ],
   "source": [
    "print('Hello world!',end=\"\")\n",
    "print('Python is Awesome')"
   ]
  },
  {
   "cell_type": "code",
   "execution_count": 38,
   "id": "628fd551-e5a2-46ef-b670-7bc88d97f909",
   "metadata": {},
   "outputs": [
    {
     "name": "stdout",
     "output_type": "stream",
     "text": [
      "Hello world!\n",
      "Python is Awesome\n"
     ]
    }
   ],
   "source": [
    "print('Hello world!',end=\"\\n\")\n",
    "print('Python is Awesome')"
   ]
  },
  {
   "cell_type": "code",
   "execution_count": 39,
   "id": "da021797-ac0c-44f4-9052-746457c0caea",
   "metadata": {},
   "outputs": [
    {
     "name": "stdout",
     "output_type": "stream",
     "text": [
      "2+3"
     ]
    }
   ],
   "source": [
    "print(\"2+3\",end=\"\")"
   ]
  },
  {
   "cell_type": "code",
   "execution_count": 40,
   "id": "dba896fd-eb38-46ac-87f2-1a069c76ea16",
   "metadata": {},
   "outputs": [
    {
     "name": "stdout",
     "output_type": "stream",
     "text": [
      "2+35\n"
     ]
    }
   ],
   "source": [
    "print(\"2+3\",end=\"\")\n",
    "print(2+3)"
   ]
  },
  {
   "cell_type": "code",
   "execution_count": 41,
   "id": "05b67d91-8123-4d08-81fa-1f2cfe8cc1d7",
   "metadata": {},
   "outputs": [
    {
     "ename": "SyntaxError",
     "evalue": "incomplete input (3635318195.py, line 2)",
     "output_type": "error",
     "traceback": [
      "\u001b[1;36m  Cell \u001b[1;32mIn[41], line 2\u001b[1;36m\u001b[0m\n\u001b[1;33m    print(2+3\u001b[0m\n\u001b[1;37m             ^\u001b[0m\n\u001b[1;31mSyntaxError\u001b[0m\u001b[1;31m:\u001b[0m incomplete input\n"
     ]
    }
   ],
   "source": [
    "print(\"2+3=\",end=\"\")\n",
    "print(2+3"
   ]
  },
  {
   "cell_type": "code",
   "execution_count": 42,
   "id": "38b7179e-fb8e-436e-a8b3-b42d3a431b0a",
   "metadata": {},
   "outputs": [
    {
     "name": "stdout",
     "output_type": "stream",
     "text": [
      "2+3=5\n"
     ]
    }
   ],
   "source": [
    "print(\"2+3=\",end=\"\")\n",
    "print(2+3)"
   ]
  },
  {
   "cell_type": "code",
   "execution_count": 43,
   "id": "ac2e3ada-9188-49ec-9222-3e7ff1569e94",
   "metadata": {},
   "outputs": [
    {
     "name": "stdout",
     "output_type": "stream",
     "text": [
      "2+3=5\n"
     ]
    }
   ],
   "source": [
    "print(\"2+3\",end=\"=\")\n",
    "print(2+3)"
   ]
  },
  {
   "cell_type": "code",
   "execution_count": 44,
   "id": "460d6ed8-90a0-4f73-b722-cba0cace2930",
   "metadata": {},
   "outputs": [],
   "source": [
    "import matplotlib.pyplot as plt"
   ]
  },
  {
   "cell_type": "code",
   "execution_count": 45,
   "id": "10cacd14-326d-46b5-b20f-2d0be3f3dcd9",
   "metadata": {},
   "outputs": [
    {
     "data": {
      "image/png": "[encoded data removed]",
      "text/plain": [
       "<Figure size 640x480 with 1 Axes>"
      ]
     },
     "metadata": {},
     "output_type": "display_data"
    }
   ],
   "source": [
    "plt.plot([2,4,6,4,8])\n",
    "plt.ylabel(\"Numbers\")\n",
    "plt.xlabel(\"Indices\")\n",
    "plt.title(\"Myplot\")\n",
    "plt.show()"
   ]
  },
  {
   "cell_type": "code",
   "execution_count": 46,
   "id": "0e486f56-bce9-413b-90da-f0bbe64a382c",
   "metadata": {},
   "outputs": [
    {
     "data": {
      "image/png": "[encoded data removed]",
      "text/plain": [
       "<Figure size 640x480 with 1 Axes>"
      ]
     },
     "metadata": {},
     "output_type": "display_data"
    }
   ],
   "source": [
    "plt.plot([1,2,3,4],[1,4,9,16])\n",
    "plt.ylabel(\"squares\")\n",
    "plt.xlabel(\"numbers\")\n",
    "plt.grid()\n",
    "plt.show()"
   ]
  },
  {
   "cell_type": "code",
   "execution_count": null,
   "id": "7b8a77e6-9f77-46df-9fc4-4c08b799405d",
   "metadata": {},
   "outputs": [],
   "source": []
  }
 ],
 "metadata": {
  "kernelspec": {
   "display_name": "Python 3 (ipykernel)",
   "language": "python",
   "name": "python3"
  },
  "language_info": {
   "codemirror_mode": {
    "name": "ipython",
    "version": 3
   },
   "file_extension": ".py",
   "mimetype": "text/x-python",
   "name": "python",
   "nbconvert_exporter": "python",
   "pygments_lexer": "ipython3",
   "version": "3.12.4"
  }
 },
 "nbformat": 4,
 "nbformat_minor": 5
}
