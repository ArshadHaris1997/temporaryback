{
 "cells": [
  {
   "cell_type": "markdown",
   "id": "84fd61bb",
   "metadata": {},
   "source": [
    "# 🏏 Cricket Score Prediction, Death Over Bowler Selection and NLP Analysis\n",
    "---\n",
    "This notebook includes:\n",
    "- Data preprocessing\n",
    "- ML models for score prediction and match winner prediction\n",
    "- NLP analysis on simulated cricket commentary\n",
    "- Visualizations for insights"
   ]
  },
  {
   "cell_type": "code",
   "execution_count": 1,
   "id": "b7fb551c",
   "metadata": {},
   "outputs": [],
   "source": [
    "\n",
    "import pandas as pd\n",
    "import numpy as np\n",
    "import matplotlib.pyplot as plt\n",
    "import seaborn as sns\n",
    "import spacy\n",
    "from sklearn.model_selection import train_test_split\n",
    "from sklearn.linear_model import LinearRegression\n",
    "from sklearn.naive_bayes import GaussianNB\n",
    "from sklearn.ensemble import RandomForestClassifier\n",
    "from sklearn.tree import DecisionTreeClassifier\n",
    "from sklearn.svm import SVC\n",
    "from sklearn.metrics import mean_absolute_error, r2_score, accuracy_score, classification_report\n",
    "import random\n"
   ]
  },
  {
   "cell_type": "markdown",
   "id": "b1f5e14d",
   "metadata": {},
   "source": [
    "## 📜 Load and Preprocess ODI Match Data"
   ]
  },
  {
   "cell_type": "code",
   "execution_count": 3,
   "id": "07a6bd46",
   "metadata": {},
   "outputs": [
    {
     "name": "stderr",
     "output_type": "stream",
     "text": [
      "C:\\Users\\ASUS\\AppData\\Local\\Temp\\ipykernel_17768\\2551644374.py:2: DtypeWarning: Columns (1) have mixed types. Specify dtype option on import or set low_memory=False.\n",
      "  df = pd.read_csv('ODI_Match_Data.csv')\n"
     ]
    },
    {
     "ename": "ValueError",
     "evalue": "Length mismatch: Expected axis has 5 elements, new values have 3 elements",
     "output_type": "error",
     "traceback": [
      "\u001b[1;31m---------------------------------------------------------------------------\u001b[0m",
      "\u001b[1;31mValueError\u001b[0m                                Traceback (most recent call last)",
      "Cell \u001b[1;32mIn[3], line 26\u001b[0m\n\u001b[0;32m     24\u001b[0m \u001b[38;5;66;03m# Result calculation\u001b[39;00m\n\u001b[0;32m     25\u001b[0m match_results \u001b[38;5;241m=\u001b[39m final_scores\u001b[38;5;241m.\u001b[39mpivot(index\u001b[38;5;241m=\u001b[39m\u001b[38;5;124m'\u001b[39m\u001b[38;5;124mmatch_id\u001b[39m\u001b[38;5;124m'\u001b[39m, columns\u001b[38;5;241m=\u001b[39m\u001b[38;5;124m'\u001b[39m\u001b[38;5;124minnings\u001b[39m\u001b[38;5;124m'\u001b[39m, values\u001b[38;5;241m=\u001b[39m\u001b[38;5;124m'\u001b[39m\u001b[38;5;124mfinal_score\u001b[39m\u001b[38;5;124m'\u001b[39m)\u001b[38;5;241m.\u001b[39mreset_index()\n\u001b[1;32m---> 26\u001b[0m match_results\u001b[38;5;241m.\u001b[39mcolumns \u001b[38;5;241m=\u001b[39m [\u001b[38;5;124m'\u001b[39m\u001b[38;5;124mmatch_id\u001b[39m\u001b[38;5;124m'\u001b[39m, \u001b[38;5;124m'\u001b[39m\u001b[38;5;124m1st_innings_score\u001b[39m\u001b[38;5;124m'\u001b[39m, \u001b[38;5;124m'\u001b[39m\u001b[38;5;124m2nd_innings_score\u001b[39m\u001b[38;5;124m'\u001b[39m]\n\u001b[0;32m     27\u001b[0m match_results[\u001b[38;5;124m'\u001b[39m\u001b[38;5;124mresult\u001b[39m\u001b[38;5;124m'\u001b[39m] \u001b[38;5;241m=\u001b[39m (match_results[\u001b[38;5;124m'\u001b[39m\u001b[38;5;124m2nd_innings_score\u001b[39m\u001b[38;5;124m'\u001b[39m] \u001b[38;5;241m>\u001b[39m match_results[\u001b[38;5;124m'\u001b[39m\u001b[38;5;124m1st_innings_score\u001b[39m\u001b[38;5;124m'\u001b[39m])\u001b[38;5;241m.\u001b[39mastype(\u001b[38;5;28mint\u001b[39m)\n\u001b[0;32m     28\u001b[0m summary \u001b[38;5;241m=\u001b[39m pd\u001b[38;5;241m.\u001b[39mmerge(summary, match_results[[\u001b[38;5;124m'\u001b[39m\u001b[38;5;124mmatch_id\u001b[39m\u001b[38;5;124m'\u001b[39m, \u001b[38;5;124m'\u001b[39m\u001b[38;5;124mresult\u001b[39m\u001b[38;5;124m'\u001b[39m]], on\u001b[38;5;241m=\u001b[39m\u001b[38;5;124m'\u001b[39m\u001b[38;5;124mmatch_id\u001b[39m\u001b[38;5;124m'\u001b[39m, how\u001b[38;5;241m=\u001b[39m\u001b[38;5;124m'\u001b[39m\u001b[38;5;124mleft\u001b[39m\u001b[38;5;124m'\u001b[39m)\n",
      "File \u001b[1;32m~\\anaconda3\\Lib\\site-packages\\pandas\\core\\generic.py:6313\u001b[0m, in \u001b[0;36mNDFrame.__setattr__\u001b[1;34m(self, name, value)\u001b[0m\n\u001b[0;32m   6311\u001b[0m \u001b[38;5;28;01mtry\u001b[39;00m:\n\u001b[0;32m   6312\u001b[0m     \u001b[38;5;28mobject\u001b[39m\u001b[38;5;241m.\u001b[39m\u001b[38;5;21m__getattribute__\u001b[39m(\u001b[38;5;28mself\u001b[39m, name)\n\u001b[1;32m-> 6313\u001b[0m     \u001b[38;5;28;01mreturn\u001b[39;00m \u001b[38;5;28mobject\u001b[39m\u001b[38;5;241m.\u001b[39m\u001b[38;5;21m__setattr__\u001b[39m(\u001b[38;5;28mself\u001b[39m, name, value)\n\u001b[0;32m   6314\u001b[0m \u001b[38;5;28;01mexcept\u001b[39;00m \u001b[38;5;167;01mAttributeError\u001b[39;00m:\n\u001b[0;32m   6315\u001b[0m     \u001b[38;5;28;01mpass\u001b[39;00m\n",
      "File \u001b[1;32mproperties.pyx:69\u001b[0m, in \u001b[0;36mpandas._libs.properties.AxisProperty.__set__\u001b[1;34m()\u001b[0m\n",
      "File \u001b[1;32m~\\anaconda3\\Lib\\site-packages\\pandas\\core\\generic.py:814\u001b[0m, in \u001b[0;36mNDFrame._set_axis\u001b[1;34m(self, axis, labels)\u001b[0m\n\u001b[0;32m    809\u001b[0m \u001b[38;5;250m\u001b[39m\u001b[38;5;124;03m\"\"\"\u001b[39;00m\n\u001b[0;32m    810\u001b[0m \u001b[38;5;124;03mThis is called from the cython code when we set the `index` attribute\u001b[39;00m\n\u001b[0;32m    811\u001b[0m \u001b[38;5;124;03mdirectly, e.g. `series.index = [1, 2, 3]`.\u001b[39;00m\n\u001b[0;32m    812\u001b[0m \u001b[38;5;124;03m\"\"\"\u001b[39;00m\n\u001b[0;32m    813\u001b[0m labels \u001b[38;5;241m=\u001b[39m ensure_index(labels)\n\u001b[1;32m--> 814\u001b[0m \u001b[38;5;28mself\u001b[39m\u001b[38;5;241m.\u001b[39m_mgr\u001b[38;5;241m.\u001b[39mset_axis(axis, labels)\n\u001b[0;32m    815\u001b[0m \u001b[38;5;28mself\u001b[39m\u001b[38;5;241m.\u001b[39m_clear_item_cache()\n",
      "File \u001b[1;32m~\\anaconda3\\Lib\\site-packages\\pandas\\core\\internals\\managers.py:238\u001b[0m, in \u001b[0;36mBaseBlockManager.set_axis\u001b[1;34m(self, axis, new_labels)\u001b[0m\n\u001b[0;32m    236\u001b[0m \u001b[38;5;28;01mdef\u001b[39;00m \u001b[38;5;21mset_axis\u001b[39m(\u001b[38;5;28mself\u001b[39m, axis: AxisInt, new_labels: Index) \u001b[38;5;241m-\u001b[39m\u001b[38;5;241m>\u001b[39m \u001b[38;5;28;01mNone\u001b[39;00m:\n\u001b[0;32m    237\u001b[0m     \u001b[38;5;66;03m# Caller is responsible for ensuring we have an Index object.\u001b[39;00m\n\u001b[1;32m--> 238\u001b[0m     \u001b[38;5;28mself\u001b[39m\u001b[38;5;241m.\u001b[39m_validate_set_axis(axis, new_labels)\n\u001b[0;32m    239\u001b[0m     \u001b[38;5;28mself\u001b[39m\u001b[38;5;241m.\u001b[39maxes[axis] \u001b[38;5;241m=\u001b[39m new_labels\n",
      "File \u001b[1;32m~\\anaconda3\\Lib\\site-packages\\pandas\\core\\internals\\base.py:98\u001b[0m, in \u001b[0;36mDataManager._validate_set_axis\u001b[1;34m(self, axis, new_labels)\u001b[0m\n\u001b[0;32m     95\u001b[0m     \u001b[38;5;28;01mpass\u001b[39;00m\n\u001b[0;32m     97\u001b[0m \u001b[38;5;28;01melif\u001b[39;00m new_len \u001b[38;5;241m!=\u001b[39m old_len:\n\u001b[1;32m---> 98\u001b[0m     \u001b[38;5;28;01mraise\u001b[39;00m \u001b[38;5;167;01mValueError\u001b[39;00m(\n\u001b[0;32m     99\u001b[0m         \u001b[38;5;124mf\u001b[39m\u001b[38;5;124m\"\u001b[39m\u001b[38;5;124mLength mismatch: Expected axis has \u001b[39m\u001b[38;5;132;01m{\u001b[39;00mold_len\u001b[38;5;132;01m}\u001b[39;00m\u001b[38;5;124m elements, new \u001b[39m\u001b[38;5;124m\"\u001b[39m\n\u001b[0;32m    100\u001b[0m         \u001b[38;5;124mf\u001b[39m\u001b[38;5;124m\"\u001b[39m\u001b[38;5;124mvalues have \u001b[39m\u001b[38;5;132;01m{\u001b[39;00mnew_len\u001b[38;5;132;01m}\u001b[39;00m\u001b[38;5;124m elements\u001b[39m\u001b[38;5;124m\"\u001b[39m\n\u001b[0;32m    101\u001b[0m     )\n",
      "\u001b[1;31mValueError\u001b[0m: Length mismatch: Expected axis has 5 elements, new values have 3 elements"
     ]
    }
   ],
   "source": [
    "\n",
    "# Load dataset\n",
    "df = pd.read_csv('ODI_Match_Data.csv')\n",
    "\n",
    "# Total runs and overs\n",
    "df['total_runs'] = df['runs_off_bat'] + df['extras']\n",
    "df['over'] = df['ball'].astype(int)\n",
    "df['is_wicket'] = df['wicket_type'].notnull().astype(int)\n",
    "\n",
    "# Summarize\n",
    "summary = df.groupby(['match_id', 'venue', 'innings', 'over', 'batting_team']).agg({\n",
    "    'total_runs': 'sum',\n",
    "    'is_wicket': 'sum'\n",
    "}).reset_index()\n",
    "\n",
    "# Cumulative calculations\n",
    "summary['cumulative_runs'] = summary.groupby(['match_id', 'innings'])['total_runs'].cumsum()\n",
    "summary['cumulative_wickets'] = summary.groupby(['match_id', 'innings'])['is_wicket'].cumsum()\n",
    "\n",
    "# Final score\n",
    "final_scores = summary.groupby(['match_id', 'innings'])['cumulative_runs'].max().reset_index()\n",
    "final_scores.rename(columns={'cumulative_runs': 'final_score'}, inplace=True)\n",
    "summary = pd.merge(summary, final_scores, on=['match_id', 'innings'], how='left')\n",
    "\n",
    "# Result calculation\n",
    "match_results = final_scores.pivot(index='match_id', columns='innings', values='final_score').reset_index()\n",
    "match_results.columns = ['match_id', '1st_innings_score', '2nd_innings_score']\n",
    "match_results['result'] = (match_results['2nd_innings_score'] > match_results['1st_innings_score']).astype(int)\n",
    "summary = pd.merge(summary, match_results[['match_id', 'result']], on='match_id', how='left')\n",
    "\n",
    "summary.head()\n"
   ]
  },
  {
   "cell_type": "code",
   "execution_count": 5,
   "id": "0d13d02b-543c-4206-87ad-9f0e94ba909c",
   "metadata": {},
   "outputs": [
    {
     "name": "stdout",
     "output_type": "stream",
     "text": [
      "Pivoted Columns: ['match_id', 1, 2, 3, 4]\n",
      "   match_id                venue  innings  over batting_team  total_runs  \\\n",
      "0     64814  McLean Park, Napier        1     0  New Zealand           2   \n",
      "1     64814  McLean Park, Napier        1     1  New Zealand           7   \n",
      "2     64814  McLean Park, Napier        1     2  New Zealand           1   \n",
      "3     64814  McLean Park, Napier        1     3  New Zealand           2   \n",
      "4     64814  McLean Park, Napier        1     4  New Zealand           1   \n",
      "\n",
      "   is_wicket  cumulative_runs  cumulative_wickets  final_score  result  \n",
      "0          0                2                   0          254       0  \n",
      "1          0                9                   0          254       0  \n",
      "2          1               10                   1          254       0  \n",
      "3          0               12                   1          254       0  \n",
      "4          0               13                   1          254       0  \n"
     ]
    }
   ],
   "source": [
    "# Result calculation (correct method)\n",
    "\n",
    "# Pivot\n",
    "match_results = final_scores.pivot(index='match_id', columns='innings', values='final_score').reset_index()\n",
    "\n",
    "# Let's print pivoted columns to understand\n",
    "print(\"Pivoted Columns:\", match_results.columns.tolist())\n",
    "\n",
    "# Now Select Only innings 1 and 2\n",
    "required_columns = ['match_id']\n",
    "\n",
    "# Try to select innings 1 and 2 safely\n",
    "if 1 in match_results.columns and 2 in match_results.columns:\n",
    "    required_columns += [1, 2]\n",
    "elif 0 in match_results.columns and 1 in match_results.columns:\n",
    "    required_columns += [0, 1]\n",
    "else:\n",
    "    raise Exception(\"Cannot find standard innings numbers in data!\")\n",
    "\n",
    "# Create filtered match_results\n",
    "match_results = match_results[required_columns]\n",
    "\n",
    "# Rename the columns properly\n",
    "match_results.columns = ['match_id', '1st_innings_score', '2nd_innings_score']\n",
    "\n",
    "# Calculate Match Result: 1 if chasing team wins, 0 otherwise\n",
    "match_results['result'] = (match_results['2nd_innings_score'] > match_results['1st_innings_score']).astype(int)\n",
    "\n",
    "# Now merge match result into your main summary data\n",
    "summary = pd.merge(summary, match_results[['match_id', 'result']], on='match_id', how='left')\n",
    "\n",
    "# Done! 🎯\n",
    "print(summary.head())\n"
   ]
  },
  {
   "cell_type": "markdown",
   "id": "d6c3ddb7",
   "metadata": {},
   "source": [
    "## ⚡ Machine Learning Models"
   ]
  },
  {
   "cell_type": "code",
   "execution_count": 7,
   "id": "9c59a4cc",
   "metadata": {},
   "outputs": [
    {
     "name": "stdout",
     "output_type": "stream",
     "text": [
      "MAE: 37.23328479093283\n",
      "R2: 0.4001399718916291\n"
     ]
    },
    {
     "data": {
      "image/png": "[encoded data removed]",
      "text/plain": [
       "<Figure size 640x480 with 1 Axes>"
      ]
     },
     "metadata": {},
     "output_type": "display_data"
    }
   ],
   "source": [
    "\n",
    "# Score Prediction\n",
    "X = summary[['cumulative_runs', 'cumulative_wickets', 'over']]\n",
    "y = summary['final_score']\n",
    "X_train, X_test, y_train, y_test = train_test_split(X, y, test_size=0.2, random_state=42)\n",
    "\n",
    "lr = LinearRegression()\n",
    "lr.fit(X_train, y_train)\n",
    "y_pred = lr.predict(X_test)\n",
    "\n",
    "print('MAE:', mean_absolute_error(y_test, y_pred))\n",
    "print('R2:', r2_score(y_test, y_pred))\n",
    "\n",
    "plt.scatter(y_test, y_pred)\n",
    "plt.xlabel('Actual Final Score')\n",
    "plt.ylabel('Predicted Final Score')\n",
    "plt.title('First Innings Score Prediction')\n",
    "plt.show()\n"
   ]
  },
  {
   "cell_type": "code",
   "execution_count": 9,
   "id": "b8f7c2dc",
   "metadata": {},
   "outputs": [
    {
     "name": "stdout",
     "output_type": "stream",
     "text": [
      "Accuracy: 0.5149723810446749\n",
      "              precision    recall  f1-score   support\n",
      "\n",
      "           0       0.55      0.54      0.55     22386\n",
      "           1       0.47      0.49      0.48     18890\n",
      "\n",
      "    accuracy                           0.51     41276\n",
      "   macro avg       0.51      0.51      0.51     41276\n",
      "weighted avg       0.52      0.51      0.52     41276\n",
      "\n"
     ]
    }
   ],
   "source": [
    "\n",
    "# Match Winning Prediction\n",
    "X = summary[['cumulative_runs', 'cumulative_wickets', 'over']]\n",
    "y = summary['result']\n",
    "X_train, X_test, y_train, y_test = train_test_split(X, y, test_size=0.2, random_state=42)\n",
    "\n",
    "nb = GaussianNB()\n",
    "nb.fit(X_train, y_train)\n",
    "y_pred = nb.predict(X_test)\n",
    "\n",
    "print('Accuracy:', accuracy_score(y_test, y_pred))\n",
    "print(classification_report(y_test, y_pred))\n"
   ]
  },
  {
   "cell_type": "markdown",
   "id": "5475fb08",
   "metadata": {},
   "source": [
    "## 🧠 NLP Death Over Bowler Selection"
   ]
  },
  {
   "cell_type": "code",
   "execution_count": 11,
   "id": "3a1bc151",
   "metadata": {},
   "outputs": [
    {
     "data": {
      "text/html": [
       "<div>\n",
       "<style scoped>\n",
       "    .dataframe tbody tr th:only-of-type {\n",
       "        vertical-align: middle;\n",
       "    }\n",
       "\n",
       "    .dataframe tbody tr th {\n",
       "        vertical-align: top;\n",
       "    }\n",
       "\n",
       "    .dataframe thead th {\n",
       "        text-align: right;\n",
       "    }\n",
       "</style>\n",
       "<table border=\"1\" class=\"dataframe\">\n",
       "  <thead>\n",
       "    <tr style=\"text-align: right;\">\n",
       "      <th></th>\n",
       "      <th>comment</th>\n",
       "      <th>bowler</th>\n",
       "      <th>ground_zone</th>\n",
       "      <th>pitch_zone</th>\n",
       "    </tr>\n",
       "  </thead>\n",
       "  <tbody>\n",
       "    <tr>\n",
       "      <th>0</th>\n",
       "      <td>Bumrah delivers a short ball, batsman mistimes...</td>\n",
       "      <td>bumrah</td>\n",
       "      <td>[square leg]</td>\n",
       "      <td>[short ball]</td>\n",
       "    </tr>\n",
       "    <tr>\n",
       "      <th>1</th>\n",
       "      <td>Nortje delivers a short ball, batsman mistimes...</td>\n",
       "      <td>None</td>\n",
       "      <td>[square leg]</td>\n",
       "      <td>[short ball]</td>\n",
       "    </tr>\n",
       "    <tr>\n",
       "      <th>2</th>\n",
       "      <td>Starc delivers a bouncer, batsman mistimes tow...</td>\n",
       "      <td>None</td>\n",
       "      <td>[long-off]</td>\n",
       "      <td>[bouncer]</td>\n",
       "    </tr>\n",
       "    <tr>\n",
       "      <th>3</th>\n",
       "      <td>Nortje delivers a yorker, batsman mistimes tow...</td>\n",
       "      <td>None</td>\n",
       "      <td>[midwicket]</td>\n",
       "      <td>[yorker]</td>\n",
       "    </tr>\n",
       "    <tr>\n",
       "      <th>4</th>\n",
       "      <td>Rabada delivers a yorker, batsman mistimes tow...</td>\n",
       "      <td>None</td>\n",
       "      <td>[long-off]</td>\n",
       "      <td>[yorker]</td>\n",
       "    </tr>\n",
       "  </tbody>\n",
       "</table>\n",
       "</div>"
      ],
      "text/plain": [
       "                                             comment  bowler   ground_zone  \\\n",
       "0  Bumrah delivers a short ball, batsman mistimes...  bumrah  [square leg]   \n",
       "1  Nortje delivers a short ball, batsman mistimes...    None  [square leg]   \n",
       "2  Starc delivers a bouncer, batsman mistimes tow...    None    [long-off]   \n",
       "3  Nortje delivers a yorker, batsman mistimes tow...    None   [midwicket]   \n",
       "4  Rabada delivers a yorker, batsman mistimes tow...    None    [long-off]   \n",
       "\n",
       "     pitch_zone  \n",
       "0  [short ball]  \n",
       "1  [short ball]  \n",
       "2     [bouncer]  \n",
       "3      [yorker]  \n",
       "4      [yorker]  "
      ]
     },
     "execution_count": 11,
     "metadata": {},
     "output_type": "execute_result"
    }
   ],
   "source": [
    "\n",
    "# Simulate commentary\n",
    "nlp = spacy.load('en_core_web_sm')\n",
    "bowlers = ['Bumrah', 'Starc', 'Malinga', 'Rabada', 'Nortje']\n",
    "pitch_types = ['yorker', 'bouncer', 'slower ball', 'short ball', 'full toss']\n",
    "ground_regions = ['midwicket', 'cover', 'long-off', 'third man', 'square leg']\n",
    "\n",
    "commentary_data = []\n",
    "for _ in range(250):\n",
    "    bowler = random.choice(bowlers)\n",
    "    pitch = random.choice(pitch_types)\n",
    "    ground = random.choice(ground_regions)\n",
    "    commentary = f\"{bowler} delivers a {pitch}, batsman mistimes towards {ground}!\"\n",
    "    commentary_data.append(commentary)\n",
    "\n",
    "def extract_from_commentary(comments):\n",
    "    data = []\n",
    "    for comment in comments:\n",
    "        doc = nlp(comment.lower())\n",
    "        bowler = None\n",
    "        for ent in doc.ents:\n",
    "            if ent.label_ == \"PERSON\":\n",
    "                bowler = ent.text\n",
    "        ground_zone = [g for g in ground_regions if g in comment.lower()]\n",
    "        pitch_zone = [p for p in pitch_types if p in comment.lower()]\n",
    "        data.append({'comment': comment, 'bowler': bowler, 'ground_zone': ground_zone, 'pitch_zone': pitch_zone})\n",
    "    return pd.DataFrame(data)\n",
    "\n",
    "nlp_df = extract_from_commentary(commentary_data)\n",
    "nlp_df.head()\n"
   ]
  },
  {
   "cell_type": "code",
   "execution_count": 13,
   "id": "c928a86f",
   "metadata": {},
   "outputs": [
    {
     "name": "stdout",
     "output_type": "stream",
     "text": [
      "Top Bowlers:\n",
      "bowler\n",
      "bumrah             36\n",
      "bumrah delivers     6\n",
      "Name: count, dtype: int64\n"
     ]
    },
    {
     "data": {
      "image/png": "[encoded data removed]",
      "text/plain": [
       "<Figure size 640x480 with 1 Axes>"
      ]
     },
     "metadata": {},
     "output_type": "display_data"
    }
   ],
   "source": [
    "\n",
    "# Bowler ranking\n",
    "bowler_rank = nlp_df['bowler'].value_counts()\n",
    "print(\"Top Bowlers:\")\n",
    "print(bowler_rank)\n",
    "\n",
    "bowler_rank.plot(kind='bar', color='seagreen')\n",
    "plt.title('Death Over Specialists (NLP Commentary)')\n",
    "plt.xlabel('Bowler')\n",
    "plt.ylabel('Number of Mistakes Forced')\n",
    "plt.show()\n"
   ]
  },
  {
   "cell_type": "code",
   "execution_count": null,
   "id": "5fcfc0aa-5f90-4400-b9a6-a1c2dde640ee",
   "metadata": {},
   "outputs": [],
   "source": []
  }
 ],
 "metadata": {
  "kernelspec": {
   "display_name": "Python 3 (ipykernel)",
   "language": "python",
   "name": "python3"
  },
  "language_info": {
   "codemirror_mode": {
    "name": "ipython",
    "version": 3
   },
   "file_extension": ".py",
   "mimetype": "text/x-python",
   "name": "python",
   "nbconvert_exporter": "python",
   "pygments_lexer": "ipython3",
   "version": "3.12.4"
  }
 },
 "nbformat": 4,
 "nbformat_minor": 5
}
